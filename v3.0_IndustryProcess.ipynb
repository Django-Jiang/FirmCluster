{
 "nbformat": 4,
 "nbformat_minor": 2,
 "metadata": {
  "language_info": {
   "name": "python",
   "codemirror_mode": {
    "name": "ipython",
    "version": 3
   },
   "version": "3.7.4-final"
  },
  "orig_nbformat": 2,
  "file_extension": ".py",
  "mimetype": "text/x-python",
  "name": "python",
  "npconvert_exporter": "python",
  "pygments_lexer": "ipython3",
  "version": 3,
  "kernelspec": {
   "name": "python37464bitbaseconda1cd2d0d6e41a416eb3bb8aebfedc92b4",
   "display_name": "Python 3.7.4 64-bit ('base': conda)"
  }
 },
 "cells": [
  {
   "cell_type": "code",
   "execution_count": 14,
   "metadata": {},
   "outputs": [],
   "source": [
    "import matplotlib.pyplot as plt\n",
    "import seaborn as sns\n",
    "\n",
    "import numpy as np\n",
    "import pandas as pd\n",
    "import scipy.io as sio\n",
    "import os\n",
    "import shutil \n",
    "from sklearn.cluster import KMeans"
   ]
  },
  {
   "cell_type": "code",
   "execution_count": 15,
   "metadata": {},
   "outputs": [],
   "source": [
    "def mkdir(path):\n",
    "    isExists = os.path.exists(path)\n",
    "    # 判断结果\n",
    "    if not isExists:\n",
    "        # 如果不存在则创建目录 # 创建目录操作函数\n",
    "        os.makedirs(path)\n",
    "        return\n",
    "    else:\n",
    "        # 如果目录存在则删除重建\n",
    "        shutil.rmtree(path)\n",
    "        os.makedirs(path)\n",
    "        return"
   ]
  },
  {
   "cell_type": "code",
   "execution_count": 16,
   "metadata": {},
   "outputs": [],
   "source": [
    "def combine_data_C(data, C):\n",
    "    data_with_c = data.copy()\n",
    "    data_with_c['C'] = C\n",
    "    return data_with_c"
   ]
  },
  {
   "cell_type": "code",
   "execution_count": 17,
   "metadata": {},
   "outputs": [],
   "source": [
    "def nor_data(data2, method):\n",
    "    if method == 0:\n",
    "        return (data2 - data2.min())/(data2.max() - data2.min()) ##rescaling\n",
    "    if method == 1:\n",
    "        return (data2 - data2.mean())/(data2.max() - data2.min()) ##mean normalization\n",
    "    if method == 2:\n",
    "        return (data2-data2.mean())/(data2.std()) ##standarization"
   ]
  },
  {
   "cell_type": "code",
   "execution_count": 52,
   "metadata": {},
   "outputs": [],
   "source": [
    "def kmeans(data, clusternumber, name, plotpath, savefile = False, saveplot = True, method = 2):\n",
    "    from sklearn.preprocessing import StandardScaler\n",
    "\n",
    "    data2 = pd.DataFrame(data, columns = ['rndinten', 'expinten'])\n",
    "    #data2 = nor_data(data2, method)\n",
    "    ss = StandardScaler()\n",
    "    data2 = ss.fit_transform(data2)\n",
    "\n",
    "    #print(data2.head()) \n",
    "\n",
    "    #sns.set(context=\"notebook\", style=\"white\")\n",
    "    #sns.lmplot('rndinten', 'expinten', data=data2, fit_reg=False)\n",
    "    #plt.show()\n",
    "\n",
    "    #################\n",
    "    sk_kmeans = KMeans(n_clusters=clusternumber)\n",
    "    sk_kmeans.fit(data2)\n",
    "\n",
    "    ##produce cluster label\n",
    "    sk_C = sk_kmeans.predict(data2)\n",
    "\n",
    "    #combine label\n",
    "    data_with_c = combine_data_C(data, sk_C)\n",
    "    #data_with_c2 = combine_data_C(data2, sk_C)\n",
    "\n",
    "\n",
    "    ##File Output\n",
    "    ##outpath = filename.split(\".\")[0]\n",
    "    ##if(savefile):\n",
    "    ##    data_with_c.to_csv(outpath+\"_withcluster\"+str(clusternumber)+\".csv\")\n",
    "\n",
    "    #result plot\n",
    "    sns.lmplot('rndinten', 'expinten', hue='C', data=data_with_c, fit_reg=False)\n",
    "    plt.title(\"indtype = \"+name)\n",
    "    plt.tight_layout()\n",
    "    if (saveplot):\n",
    "        plt.savefig(plotpath + name+\".png\", dpi = 300)\n",
    "        plt.close()\n",
    "        return\n",
    "    else:\n",
    "        plt.show()\n",
    "        return"
   ]
  },
  {
   "cell_type": "code",
   "execution_count": 53,
   "metadata": {},
   "outputs": [],
   "source": [
    "def csv_group(inputfile, clusternumber, plotpath = \"./outplot\", method = 2, groupkey = \"indtype\", outcsvpath = \"./outcsv/\"):\n",
    "    plotpath += \"/c\" + str(clusternumber) + \"_m\" + str(method) #make a new dir\n",
    "    mkdir(plotpath)\n",
    "    plotpath +=  \"/ind=\"\n",
    "\n",
    "    data = pd.read_csv(inputfile)\n",
    "    data_to_count = data[groupkey]\n",
    "    \n",
    "    ##store various keyvalue\n",
    "    intdic = {}\n",
    "    for i in data_to_count:\n",
    "        if i not in intdic.keys():\n",
    "            intdic[i] = 1\n",
    "        else:\n",
    "            intdic[i] += 1\n",
    "\n",
    "    intlist = []\n",
    "    for i in intdic:\n",
    "        if intdic[i] >= clusternumber: \n",
    "            intlist.append(i)\n",
    "\n",
    "    intlist.sort()\n",
    "    # intlist, len = 523, dtype = int\n",
    "\n",
    "    print(intlist)\n",
    "\n",
    "    num_int = len(intlist)\n",
    "    for i in range(num_int):\n",
    "        intkey = intlist[i]\n",
    "        data_to_processed = data[data[groupkey] == intkey]\n",
    "        ##data_to_write.to_csv(outcsvpath + \"ind=\" + str(intkey) + \".csv\") ## \"./outcsv/ind=####.csv\"\n",
    "        kmeans(data_to_processed, clusternumber, str(intkey), plotpath)\n",
    "\n",
    "\n",
    "    return "
   ]
  },
  {
   "cell_type": "code",
   "execution_count": 54,
   "metadata": {},
   "outputs": [
    {
     "name": "stdout",
     "output_type": "stream",
     "text": "[1311, 1312, 1313, 1314, 1315, 1317, 1319, 1321, 1322, 1331, 1332, 1334, 1341, 1342, 1343, 1344, 1351, 1352, 1353, 1354, 1359, 1360, 1390, 1411, 1412, 1413, 1414, 1415, 1419, 1420, 1431, 1433, 1434, 1435, 1439, 1441, 1442, 1443, 1444, 1445, 1449, 1451, 1452, 1453, 1454, 1459, 1491, 1492, 1493, 1495, 1497, 1498, 1499, 1511, 1512, 1513, 1514, 1515, 1516, 1521, 1522, 1523, 1524, 1529, 1550, 1590, 1610, 1620, 1690, 1711, 1712, 1713, 1714, 1719, 1721, 1722, 1723, 1724, 1725, 1726, 1729, 1741, 1742, 1743, 1744, 1745, 1749, 1761, 1762, 1763, 1769, 1771, 1772, 1773, 1774, 1775, 1779, 1781, 1782, 1783, 1789, 1790, 1810, 1820, 1830, 1890, 1911, 1912, 1919, 1921, 1923, 1924, 1925, 1929, 1931, 1932, 1939, 1951, 1952, 2011, 2012, 2021, 2022, 2023, 2029, 2031, 2033, 2040, 2110, 2120, 2130, 2140, 2190, 2210, 2220, 2221, 2223, 2224, 2230, 2311, 2312, 2319, 2320, 2411, 2413, 2415, 2417, 2419, 2421, 2423, 2429, 2431, 2433, 2435, 2439, 2440, 2450, 2490, 2510, 2520, 2530, 2570, 2611, 2613, 2615, 2617, 2619, 2621, 2622, 2623, 2624, 2625, 2629, 2631, 2633, 2651, 2652, 2653, 2654, 2655, 2659, 2661, 2662, 2663, 2664, 2665, 2666, 2667, 2669, 2671, 2672, 2673, 2675, 2677, 2681, 2682, 2683, 2684, 2685, 2686, 2687, 2688, 2689, 2710, 2720, 2730, 2740, 2750, 2811, 2812, 2819, 2821, 2822, 2823, 2824, 2829, 2851, 2852, 2853, 2854, 2859, 2910, 2920, 2930, 2940, 2950, 2960, 2970, 2981, 2989, 2990, 3010, 3020, 3030, 3040, 3050, 3060, 3070, 3080, 3090, 3110, 3121, 3123, 3124, 3129, 3131, 3132, 3133, 3134, 3135, 3136, 3139, 3141, 3142, 3143, 3145, 3147, 3148, 3149, 3151, 3153, 3155, 3159, 3161, 3163, 3169, 3171, 3172, 3179, 3181, 3182, 3189, 3190, 3210, 3220, 3240, 3260, 3311, 3312, 3314, 3316, 3321, 3360, 3381, 3383, 3410, 3420, 3431, 3434, 3435, 3439, 3441, 3442, 3450, 3461, 3463, 3465, 3469, 3470, 3481, 3482, 3483, 3484, 3485, 3486, 3487, 3488, 3489, 3491, 3495, 3499, 3511, 3512, 3513, 3514, 3515, 3519, 3521, 3523, 3525, 3526, 3529, 3531, 3532, 3533, 3534, 3535, 3536, 3537, 3538, 3539, 3541, 3542, 3561, 3562, 3563, 3564, 3565, 3566, 3567, 3568, 3569, 3571, 3572, 3580, 3590, 3611, 3613, 3615, 3617, 3619, 3621, 3622, 3623, 3624, 3625, 3626, 3627, 3628, 3629, 3631, 3632, 3633, 3634, 3635, 3636, 3637, 3638, 3639, 3641, 3642, 3643, 3644, 3645, 3646, 3647, 3649, 3651, 3652, 3653, 3654, 3655, 3671, 3672, 3674, 3675, 3676, 3677, 3678, 3679, 3681, 3683, 3685, 3689, 3711, 3712, 3713, 3714, 3715, 3716, 3717, 3719, 3721, 3722, 3723, 3724, 3725, 3726, 3727, 3731, 3732, 3740, 3750, 3761, 3762, 3763, 3764, 3781, 3782, 3783, 3785, 3786, 3789, 3791, 3792, 3793, 4011, 4012, 4013, 4021, 4022, 4023, 4024, 4027, 4029, 4041, 4043, 4045, 4046, 4049, 4061, 4062, 4063, 4064, 4065, 4066, 4069, 4071, 4072, 4073, 4074, 4079, 4080, 4091, 4092, 4099, 4111, 4112, 4113, 4119, 4130, 4141, 4143, 4151, 4153, 4155, 4160, 4171, 4172, 4173, 4181, 4189, 4190, 4211, 4212, 4213, 4214, 4215, 4216, 4217, 4218, 4219, 4221, 4222, 4223, 4224, 4225, 4226, 4227, 4228, 4229, 4230, 4241, 4242, 4243, 4251, 4252, 4254, 4256, 4257, 4259, 4260, 4280, 4290, 4311, 4312, 4313, 4314, 4315, 4316, 4317, 4318, 4319, 4351, 4353, 4355, 4357, 4391, 4392]\n/opt/anaconda3/lib/python3.7/site-packages/sklearn/cluster/k_means_.py:972: ConvergenceWarning: Number of distinct clusters (1) found smaller than n_clusters (2). Possibly due to duplicate points in X.\n  return_n_iter=True)\n/opt/anaconda3/lib/python3.7/site-packages/sklearn/cluster/k_means_.py:972: ConvergenceWarning: Number of distinct clusters (1) found smaller than n_clusters (2). Possibly due to duplicate points in X.\n  return_n_iter=True)\n/opt/anaconda3/lib/python3.7/site-packages/sklearn/cluster/k_means_.py:972: ConvergenceWarning: Number of distinct clusters (1) found smaller than n_clusters (2). Possibly due to duplicate points in X.\n  return_n_iter=True)\n/opt/anaconda3/lib/python3.7/site-packages/sklearn/cluster/k_means_.py:972: ConvergenceWarning: Number of distinct clusters (1) found smaller than n_clusters (2). Possibly due to duplicate points in X.\n  return_n_iter=True)\n"
    }
   ],
   "source": [
    "infile = \"2001_industry.csv\"\n",
    "num = 2\n",
    "csv_group(infile, num)"
   ]
  },
  {
   "cell_type": "code",
   "execution_count": null,
   "metadata": {},
   "outputs": [],
   "source": [
    "! git add .\n",
    "! git commit -m \"2.3update1\"\n",
    "! git push"
   ]
  },
  {
   "cell_type": "code",
   "execution_count": 43,
   "metadata": {},
   "outputs": [
    {
     "name": "stdout",
     "output_type": "stream",
     "text": "3673\n1432\n4183\n3784\n"
    }
   ],
   "source": [
    "data = pd.read_csv(\"2001_industry.csv\")\n",
    "data_to_count = data['indtype']\n",
    "intdic = {}\n",
    "for i in data_to_count:\n",
    "    if i not in intdic.keys():\n",
    "        intdic[i] = 1\n",
    "    else:\n",
    "        intdic[i] += 1\n",
    "\n",
    "for i in intdic:\n",
    "    if intdic[i] == 1: \n",
    "        print (i)"
   ]
  },
  {
   "cell_type": "code",
   "execution_count": 56,
   "metadata": {},
   "outputs": [
    {
     "name": "stdout",
     "output_type": "stream",
     "text": "On branch master\nYour branch is up to date with 'origin/master'.\n\nChanges not staged for commit:\n  (use \"git add <file>...\" to update what will be committed)\n  (use \"git checkout -- <file>...\" to discard changes in working directory)\n\n\t\u001b[31mmodified:   .DS_Store\u001b[m\n\t\u001b[31mmodified:   outplot/.DS_Store\u001b[m\n\t\u001b[31mmodified:   v3.0_IndustryProcess.ipynb\u001b[m\n\nUntracked files:\n  (use \"git add <file>...\" to include in what will be committed)\n\n\t\u001b[31moutplot/c2_m2/\u001b[m\n\nno changes added to commit (use \"git add\" and/or \"git commit -a\")\n"
    }
   ],
   "source": [
    "!git status"
   ]
  },
  {
   "cell_type": "code",
   "execution_count": null,
   "metadata": {},
   "outputs": [],
   "source": []
  }
 ]
}
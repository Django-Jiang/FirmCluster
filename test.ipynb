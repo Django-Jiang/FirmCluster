{
 "nbformat": 4,
 "nbformat_minor": 2,
 "metadata": {
  "language_info": {
   "name": "python",
   "codemirror_mode": {
    "name": "ipython",
    "version": 3
   },
   "version": "3.7.4-final"
  },
  "orig_nbformat": 2,
  "file_extension": ".py",
  "mimetype": "text/x-python",
  "name": "python",
  "npconvert_exporter": "python",
  "pygments_lexer": "ipython3",
  "version": 3,
  "kernelspec": {
   "name": "python37464bitbaseconda1cd2d0d6e41a416eb3bb8aebfedc92b4",
   "display_name": "Python 3.7.4 64-bit ('base': conda)"
  }
 },
 "cells": [
  {
   "cell_type": "code",
   "execution_count": 1,
   "metadata": {},
   "outputs": [],
   "source": [
    "import matplotlib.pyplot as plt\n",
    "import seaborn as sns\n",
    "from matplotlib.backends.backend_pdf import PdfPages\n",
    "import numpy as np\n",
    "import pandas as pd\n",
    "import scipy.io as sio\n",
    "import os\n",
    "import shutil \n",
    "from sklearn.cluster import KMeans\n",
    "from sklearn.preprocessing import StandardScaler"
   ]
  },
  {
   "cell_type": "code",
   "execution_count": 4,
   "metadata": {},
   "outputs": [
    {
     "data": {
      "text/html": "<div>\n<style scoped>\n    .dataframe tbody tr th:only-of-type {\n        vertical-align: middle;\n    }\n\n    .dataframe tbody tr th {\n        vertical-align: top;\n    }\n\n    .dataframe thead th {\n        text-align: right;\n    }\n</style>\n<table border=\"1\" class=\"dataframe\">\n  <thead>\n    <tr style=\"text-align: right;\">\n      <th></th>\n      <th>indtype</th>\n    </tr>\n  </thead>\n  <tbody>\n    <tr>\n      <td>0</td>\n      <td>1515</td>\n    </tr>\n    <tr>\n      <td>1</td>\n      <td>1711</td>\n    </tr>\n    <tr>\n      <td>2</td>\n      <td>4065</td>\n    </tr>\n    <tr>\n      <td>3</td>\n      <td>3538</td>\n    </tr>\n    <tr>\n      <td>4</td>\n      <td>1939</td>\n    </tr>\n    <tr>\n      <td>...</td>\n      <td>...</td>\n    </tr>\n    <tr>\n      <td>140537</td>\n      <td>1321</td>\n    </tr>\n    <tr>\n      <td>140538</td>\n      <td>3131</td>\n    </tr>\n    <tr>\n      <td>140539</td>\n      <td>4063</td>\n    </tr>\n    <tr>\n      <td>140540</td>\n      <td>1499</td>\n    </tr>\n    <tr>\n      <td>140541</td>\n      <td>3030</td>\n    </tr>\n  </tbody>\n</table>\n<p>140542 rows × 1 columns</p>\n</div>",
      "text/plain": "        indtype\n0          1515\n1          1711\n2          4065\n3          3538\n4          1939\n...         ...\n140537     1321\n140538     3131\n140539     4063\n140540     1499\n140541     3030\n\n[140542 rows x 1 columns]"
     },
     "execution_count": 4,
     "metadata": {},
     "output_type": "execute_result"
    }
   ],
   "source": [
    "infile = \"all_indtype.csv\"\n",
    "data = pd.read_csv(infile)\n",
    "data"
   ]
  },
  {
   "cell_type": "code",
   "execution_count": 18,
   "metadata": {},
   "outputs": [
    {
     "name": "stdout",
     "output_type": "stream",
     "text": "{15: {1515: 75, 1512: 923, 1523: 213, 1513: 459, 1521: 159, 1590: 92, 1522: 182, 1550: 269, 1511: 122, 1529: 91, 1524: 56, 1514: 74, 1516: 39}, 17: {1711: 674, 1723: 911, 1790: 542, 1741: 75, 1773: 880, 1782: 770, 1744: 67, 1742: 515, 1781: 910, 1724: 644, 1775: 106, 1722: 1257, 1743: 190, 1721: 1431, 1712: 22, 1719: 204, 1774: 175, 1745: 36, 1789: 235, 1725: 157, 1726: 55, 1749: 118, 1729: 148, 1779: 45, 1783: 188, 1771: 439, 1763: 54, 1772: 101, 1762: 50, 1769: 30, 1713: 22, 1714: 34, 1761: 60}, 40: {4065: 227, 4024: 754, 4021: 491, 4043: 160, 4041: 1784, 4073: 505, 4061: 89, 4080: 36, 4099: 118, 4027: 366, 4074: 108, 4063: 83, 4069: 532, 4091: 79, 4022: 36, 4029: 460, 4092: 38, 4013: 272, 4023: 108, 4071: 293, 4049: 238, 4066: 33, 4012: 390, 4045: 240, 4072: 76, 4079: 93, 4011: 131, 4046: 158, 4062: 30, 4064: 134}, 35: {3538: 204, 3542: 567, 3569: 339, 3529: 304, 3519: 49, 3572: 276, 3571: 1508, 3564: 176, 3512: 144, 3521: 339, 3541: 612, 3531: 505, 3565: 422, 3526: 98, 3562: 111, 3561: 264, 3535: 119, 3533: 527, 3511: 399, 3537: 28, 3590: 350, 3580: 58, 3536: 172, 3515: 350, 3534: 153, 3525: 116, 3532: 43, 3523: 188, 3566: 126, 3513: 31, 3568: 147, 3567: 128, 3539: 242, 3563: 96, 3514: 20}, 19: {1939: 66, 1923: 333, 1919: 92, 1929: 287, 1921: 1053, 1952: 220, 1924: 155, 1911: 391, 1951: 122, 1932: 49, 1925: 458, 1931: 65, 1912: 13}, 26: {2619: 753, 2651: 779, 2622: 449, 2672: 461, 2652: 846, 2624: 414, 2617: 691, 2684: 191, 2677: 183, 2659: 402, 2685: 210, 2661: 100, 2663: 105, 2671: 938, 2681: 266, 2667: 51, 2669: 112, 2689: 174, 2633: 344, 2655: 320, 2664: 121, 2675: 132, 2629: 175, 2666: 68, 2611: 302, 2662: 153, 2615: 78, 2653: 130, 2654: 246, 2683: 41, 2631: 206, 2621: 535, 2613: 128, 2623: 26, 2673: 191, 2665: 62, 2625: 28, 2687: 39, 2682: 20, 2688: 45, 2686: 31}, 32: {3240: 1567, 3260: 531, 3210: 553, 3220: 224}, 36: {3621: 202, 3635: 465, 3683: 41, 3631: 195, 3613: 129, 3671: 232, 3627: 130, 3654: 238, 3644: 19, 3652: 163, 3628: 61, 3636: 27, 3681: 46, 3626: 66, 3675: 51, 3678: 169, 3619: 108, 3623: 19, 3679: 210, 3649: 213, 3622: 189, 3677: 202, 3672: 37, 3642: 342, 3629: 156, 3651: 52, 3617: 79, 3643: 6, 3645: 27, 3615: 32, 3653: 69, 3685: 5, 3689: 62, 3611: 295, 3625: 178, 3647: 243, 3646: 47, 3676: 17, 3674: 157, 3624: 46, 3638: 113, 3655: 28, 3639: 33, 3632: 255, 3634: 103, 3641: 107, 3633: 28, 3637: 11, 3673: 1}, 13: {1342: 861, 1390: 837, 1321: 983, 1314: 1370, 1341: 530, 1312: 1308, 1344: 44, 1317: 104, 1313: 243, 1360: 44, 1315: 48, 1343: 105, 1352: 111, 1351: 689, 1334: 28, 1322: 35, 1311: 825, 1332: 51, 1353: 28, 1319: 67, 1354: 22, 1359: 39, 1331: 238}, 20: {2031: 416, 2021: 683, 2011: 197, 2012: 110, 2033: 306, 2040: 241, 2023: 98, 2029: 307, 2022: 166}, 37: {3717: 43, 3727: 2510, 3732: 888, 3782: 877, 3789: 15, 3721: 62, 3725: 239, 3722: 76, 3786: 24, 3714: 133, 3715: 16, 3726: 82, 3716: 22, 3793: 50, 3713: 11, 3740: 393, 3781: 56, 3719: 22, 3761: 52, 3723: 16, 3731: 220, 3785: 152, 3711: 5, 3764: 67, 3763: 42, 3712: 6, 3724: 27, 3783: 5, 3762: 81, 3792: 3, 3791: 2, 3750: 4, 3784: 1}, 31: {3169: 654, 3133: 628, 3110: 4279, 3123: 387, 3171: 170, 3161: 81, 3131: 1295, 3181: 161, 3121: 1088, 3147: 477, 3141: 196, 3190: 553, 3134: 217, 3139: 133, 3182: 226, 3135: 156, 3129: 27, 3142: 123, 3153: 168, 3136: 141, 3159: 58, 3124: 63, 3149: 136, 3151: 878, 3148: 50, 3143: 58, 3179: 108, 3172: 35, 3155: 617, 3132: 128, 3163: 30, 3145: 26, 3189: 15}, 22: {2230: 2217, 2210: 57, 2221: 2159, 2224: 157, 2223: 8, 2220: 2}, 33: {3311: 182, 3383: 490, 3381: 515, 3312: 282, 3321: 228, 3360: 103, 3316: 22, 3314: 15}, 18: {1810: 6626, 1830: 573, 1820: 151, 1890: 358}, 29: {2930: 350, 2940: 256, 2910: 190, 2990: 284, 2950: 79, 2981: 30, 2920: 68, 2960: 242, 2970: 115, 2989: 7}, 34: {3483: 589, 3420: 302, 3499: 427, 3482: 440, 3469: 187, 3487: 147, 3465: 586, 3431: 258, 3434: 433, 3441: 44, 3410: 877, 3435: 322, 3486: 133, 3463: 375, 3470: 578, 3450: 791, 3442: 676, 3491: 110, 3489: 391, 3439: 65, 3495: 136, 3461: 201, 3485: 248, 3481: 122, 3484: 103, 3488: 44}, 28: {2829: 149, 2811: 27, 2812: 57, 2824: 8, 2822: 321, 2859: 53, 2854: 55, 2821: 66, 2823: 21, 2819: 36, 2851: 10, 2852: 5, 2853: 5}, 30: {3050: 503, 3030: 944, 3010: 666, 3070: 555, 3020: 872, 3090: 1403, 3040: 719, 3080: 438, 3060: 324}, 43: {4351: 31, 4316: 324, 4318: 212, 4313: 33, 4312: 148, 4392: 461, 4317: 322, 4319: 814, 4311: 395, 4353: 214, 4391: 180, 4357: 135, 4314: 116, 4315: 417, 4355: 143}, 14: {1415: 124, 1411: 195, 1497: 56, 1413: 215, 1499: 318, 1414: 253, 1453: 99, 1459: 52, 1412: 344, 1491: 119, 1419: 52, 1442: 80, 1420: 379, 1452: 52, 1451: 351, 1449: 42, 1492: 363, 1498: 148, 1434: 117, 1441: 21, 1445: 32, 1444: 31, 1435: 196, 1495: 22, 1443: 29, 1439: 46, 1433: 24, 1431: 35, 1454: 19, 1432: 1, 1493: 17}, 24: {2490: 51, 2413: 99, 2433: 73, 2411: 181, 2450: 20, 2440: 860, 2415: 162, 2429: 130, 2423: 105, 2419: 55, 2421: 86, 2431: 17, 2417: 31, 2435: 13, 2439: 18}, 23: {2319: 728, 2312: 1121, 2311: 1144, 2320: 51}, 21: {2110: 1001, 2190: 173, 2130: 297, 2120: 19, 2140: 12}, 25: {2530: 336, 2520: 251, 2570: 320, 2510: 14}, 41: {4160: 1666, 4143: 293, 4119: 333, 4155: 149, 4130: 87, 4151: 94, 4153: 252, 4112: 138, 4141: 116, 4173: 54, 4171: 202, 4190: 441, 4111: 129, 4172: 240, 4113: 161, 4189: 7, 4181: 4, 4183: 1}, 27: {2710: 652, 2720: 848, 2750: 265, 2730: 1132, 2740: 212}, 16: {1620: 135, 1610: 80, 1690: 25}, 42: {4212: 175, 4229: 65, 4215: 35, 4211: 258, 4260: 230, 4228: 5, 4242: 56, 4254: 82, 4216: 40, 4219: 69, 4230: 75, 4217: 24, 4225: 26, 4257: 14, 4259: 34, 4290: 68, 4243: 85, 4213: 147, 4223: 22, 4214: 36, 4252: 6, 4226: 5, 4221: 27, 4218: 57, 4256: 32, 4227: 48, 4280: 10, 4241: 20, 4251: 4, 4222: 37, 4224: 2}}\n"
    }
   ],
   "source": [
    "data_to_count = data['indtype']\n",
    "intdic = {}\n",
    "for i in data_to_count: #count appe time\n",
    "    cur_key = int(i/100)\n",
    "    if cur_key in intdic:\n",
    "        if i in intdic[cur_key]:\n",
    "            intdic[cur_key][i] += 1\n",
    "        else:\n",
    "            intdic[cur_key][i] = 1\n",
    "    else:\n",
    "        intdic[cur_key] = {i:1}\n",
    "print(intdic)"
   ]
  },
  {
   "cell_type": "code",
   "execution_count": 21,
   "metadata": {},
   "outputs": [
    {
     "name": "stdout",
     "output_type": "stream",
     "text": "{15: 2754, 17: 11145, 40: 8062, 35: 9211, 19: 3304, 26: 10546, 32: 2875, 36: 5704, 13: 8610, 20: 2524, 37: 6202, 31: 13362, 22: 4600, 18: 7708, 34: 8585, 30: 6424, 43: 3945, 14: 3832, 23: 3044, 41: 4367, 27: 3109}\n[33, 29, 28, 24, 21, 25, 16, 42]\n"
    }
   ],
   "source": [
    "del_list = []\n",
    "count_dic = {}\n",
    "clusternum = 2000\n",
    "for i in intdic:\n",
    "    summ = 0\n",
    "    for j in intdic[i]:\n",
    "        summ += intdic[i][j]\n",
    "    if summ < clusternumber:\n",
    "        del_list.append(i)\n",
    "    else:\n",
    "        count_dic[i] = summ\n",
    "\n",
    "print(count_dic)\n",
    "print(del_list)\n",
    "##drop small group\n",
    "for i in del_list:\n",
    "    del intdic[i]\n"
   ]
  },
  {
   "cell_type": "code",
   "execution_count": 49,
   "metadata": {},
   "outputs": [],
   "source": [
    "data = pd.read_csv(\"2001_big.csv\")\n",
    "order_dickey = list(intdic.keys())\n",
    "order_dickey.sort()\n",
    "#for i in order_dickey:\n",
    "i = order_dickey[0]\n",
    "avail_keygroup = list(intdic[i].keys())\n",
    "avail_keygroup.sort()\n",
    "data_to_processed = data[data['indtype'] == avail_keygroup[0]]\n",
    "for j in avail_keygroup[1:]:\n",
    "    df2 = data[data['indtype'] == j]\n",
    "    data_to_processed = data_to_processed.append(df2)\n",
    "\n"
   ]
  },
  {
   "cell_type": "code",
   "execution_count": 50,
   "metadata": {},
   "outputs": [
    {
     "data": {
      "text/html": "<div>\n<style scoped>\n    .dataframe tbody tr th:only-of-type {\n        vertical-align: middle;\n    }\n\n    .dataframe tbody tr th {\n        vertical-align: top;\n    }\n\n    .dataframe thead th {\n        text-align: right;\n    }\n</style>\n<table border=\"1\" class=\"dataframe\">\n  <thead>\n    <tr style=\"text-align: right;\">\n      <th></th>\n      <th>crc</th>\n      <th>indtype</th>\n      <th>giovsaled</th>\n      <th>voexpg</th>\n      <th>fa</th>\n      <th>cwp</th>\n      <th>perseng</th>\n      <th>year</th>\n      <th>rnd</th>\n      <th>rndinten</th>\n      <th>expinten</th>\n    </tr>\n  </thead>\n  <tbody>\n    <tr>\n      <td>3710</td>\n      <td>104005746</td>\n      <td>1311</td>\n      <td>24300</td>\n      <td>0</td>\n      <td>210</td>\n      <td>270</td>\n      <td>40</td>\n      <td>2001</td>\n      <td>0</td>\n      <td>0.000000</td>\n      <td>0.000000</td>\n    </tr>\n    <tr>\n      <td>3714</td>\n      <td>10400812X</td>\n      <td>1311</td>\n      <td>3090</td>\n      <td>0</td>\n      <td>4361</td>\n      <td>183</td>\n      <td>21</td>\n      <td>2001</td>\n      <td>0</td>\n      <td>0.000000</td>\n      <td>0.000000</td>\n    </tr>\n    <tr>\n      <td>5001</td>\n      <td>105220528</td>\n      <td>1311</td>\n      <td>51247</td>\n      <td>0</td>\n      <td>1740</td>\n      <td>301</td>\n      <td>53</td>\n      <td>2001</td>\n      <td>0</td>\n      <td>0.000000</td>\n      <td>0.000000</td>\n    </tr>\n    <tr>\n      <td>5004</td>\n      <td>105220624</td>\n      <td>1311</td>\n      <td>2048</td>\n      <td>0</td>\n      <td>710</td>\n      <td>11</td>\n      <td>48</td>\n      <td>2001</td>\n      <td>0</td>\n      <td>0.000000</td>\n      <td>0.000000</td>\n    </tr>\n    <tr>\n      <td>5009</td>\n      <td>10522131X</td>\n      <td>1311</td>\n      <td>40300</td>\n      <td>0</td>\n      <td>442</td>\n      <td>320</td>\n      <td>35</td>\n      <td>2001</td>\n      <td>0</td>\n      <td>0.000000</td>\n      <td>0.000000</td>\n    </tr>\n    <tr>\n      <td>...</td>\n      <td>...</td>\n      <td>...</td>\n      <td>...</td>\n      <td>...</td>\n      <td>...</td>\n      <td>...</td>\n      <td>...</td>\n      <td>...</td>\n      <td>...</td>\n      <td>...</td>\n      <td>...</td>\n    </tr>\n    <tr>\n      <td>139656</td>\n      <td>X21227183</td>\n      <td>1390</td>\n      <td>9050</td>\n      <td>0</td>\n      <td>560</td>\n      <td>410</td>\n      <td>58</td>\n      <td>2001</td>\n      <td>0</td>\n      <td>0.000000</td>\n      <td>0.000000</td>\n    </tr>\n    <tr>\n      <td>139929</td>\n      <td>YA3676739</td>\n      <td>1390</td>\n      <td>8000</td>\n      <td>0</td>\n      <td>580</td>\n      <td>106</td>\n      <td>11</td>\n      <td>2001</td>\n      <td>0</td>\n      <td>0.000000</td>\n      <td>0.000000</td>\n    </tr>\n    <tr>\n      <td>140297</td>\n      <td>hb282009x</td>\n      <td>1390</td>\n      <td>39200</td>\n      <td>39200</td>\n      <td>6576</td>\n      <td>408</td>\n      <td>240</td>\n      <td>2001</td>\n      <td>3</td>\n      <td>0.000077</td>\n      <td>1.000000</td>\n    </tr>\n    <tr>\n      <td>140505</td>\n      <td>x12947222</td>\n      <td>1390</td>\n      <td>8847</td>\n      <td>0</td>\n      <td>2029</td>\n      <td>210</td>\n      <td>120</td>\n      <td>2001</td>\n      <td>0</td>\n      <td>0.000000</td>\n      <td>0.000000</td>\n    </tr>\n    <tr>\n      <td>140509</td>\n      <td>x13513323</td>\n      <td>1390</td>\n      <td>11241</td>\n      <td>9936</td>\n      <td>1650</td>\n      <td>190</td>\n      <td>38</td>\n      <td>2001</td>\n      <td>0</td>\n      <td>0.000000</td>\n      <td>0.883907</td>\n    </tr>\n  </tbody>\n</table>\n<p>8610 rows × 11 columns</p>\n</div>",
      "text/plain": "              crc  indtype  giovsaled  voexpg    fa  cwp  perseng  year  rnd  \\\n3710    104005746     1311      24300       0   210  270       40  2001    0   \n3714    10400812X     1311       3090       0  4361  183       21  2001    0   \n5001    105220528     1311      51247       0  1740  301       53  2001    0   \n5004    105220624     1311       2048       0   710   11       48  2001    0   \n5009    10522131X     1311      40300       0   442  320       35  2001    0   \n...           ...      ...        ...     ...   ...  ...      ...   ...  ...   \n139656  X21227183     1390       9050       0   560  410       58  2001    0   \n139929  YA3676739     1390       8000       0   580  106       11  2001    0   \n140297  hb282009x     1390      39200   39200  6576  408      240  2001    3   \n140505  x12947222     1390       8847       0  2029  210      120  2001    0   \n140509  x13513323     1390      11241    9936  1650  190       38  2001    0   \n\n        rndinten  expinten  \n3710    0.000000  0.000000  \n3714    0.000000  0.000000  \n5001    0.000000  0.000000  \n5004    0.000000  0.000000  \n5009    0.000000  0.000000  \n...          ...       ...  \n139656  0.000000  0.000000  \n139929  0.000000  0.000000  \n140297  0.000077  1.000000  \n140505  0.000000  0.000000  \n140509  0.000000  0.883907  \n\n[8610 rows x 11 columns]"
     },
     "execution_count": 50,
     "metadata": {},
     "output_type": "execute_result"
    }
   ],
   "source": [
    "data_to_processed"
   ]
  },
  {
   "cell_type": "code",
   "execution_count": 59,
   "metadata": {},
   "outputs": [
    {
     "ename": "SyntaxError",
     "evalue": "invalid syntax (<ipython-input-59-1ea94ab49b7e>, line 3)",
     "output_type": "error",
     "traceback": [
      "\u001b[0;36m  File \u001b[0;32m\"<ipython-input-59-1ea94ab49b7e>\"\u001b[0;36m, line \u001b[0;32m3\u001b[0m\n\u001b[0;31m    data_feature.append([data_to_processed['giovsaled'].mean(), data_to_processed['perseng'].mean(), data_to_processed['voexpg'].mean(),data_to_processed['expinten'].mean(),data_to_processed['fa'].mean(), data_to_processed['ave_cwp'].mean())\u001b[0m\n\u001b[0m                                                                                                                                                                                                                                                ^\u001b[0m\n\u001b[0;31mSyntaxError\u001b[0m\u001b[0;31m:\u001b[0m invalid syntax\n"
     ]
    }
   ],
   "source": [
    "data_feature = [] ##[mean_giovsaled, mean_perseng,]\n",
    "data_to_processed['ave_cwp'] = data_to_processed['cwp']/data_to_processed['perseng']\n",
    "data_feature.append([data_to_processed['giovsaled'].mean(), data_to_processed['perseng'].mean(), data_to_processed['voexpg'].mean(),data_to_processed['expinten'].mean(),data_to_processed['fa'].mean(), data_to_processed['ave_cwp'].mean())"
   ]
  },
  {
   "cell_type": "code",
   "execution_count": 56,
   "metadata": {},
   "outputs": [
    {
     "data": {
      "text/plain": "[[42984.1831591173,\n  174.89430894308944,\n  4991.798606271777,\n  0.10075010401372722,\n  13588.771196283391]]"
     },
     "execution_count": 56,
     "metadata": {},
     "output_type": "execute_result"
    }
   ],
   "source": [
    "data_feature"
   ]
  },
  {
   "cell_type": "code",
   "execution_count": 37,
   "metadata": {},
   "outputs": [
    {
     "data": {
      "text/html": "<div>\n<style scoped>\n    .dataframe tbody tr th:only-of-type {\n        vertical-align: middle;\n    }\n\n    .dataframe tbody tr th {\n        vertical-align: top;\n    }\n\n    .dataframe thead th {\n        text-align: right;\n    }\n</style>\n<table border=\"1\" class=\"dataframe\">\n  <thead>\n    <tr style=\"text-align: right;\">\n      <th></th>\n      <th>crc</th>\n      <th>indtype</th>\n      <th>giovsaled</th>\n      <th>voexpg</th>\n      <th>fa</th>\n      <th>cwp</th>\n      <th>perseng</th>\n      <th>year</th>\n      <th>rnd</th>\n      <th>rndinten</th>\n      <th>expinten</th>\n    </tr>\n  </thead>\n  <tbody>\n    <tr>\n      <td>3710</td>\n      <td>104005746</td>\n      <td>1311</td>\n      <td>24300</td>\n      <td>0</td>\n      <td>210</td>\n      <td>270</td>\n      <td>40</td>\n      <td>2001</td>\n      <td>0</td>\n      <td>0.0</td>\n      <td>0.0</td>\n    </tr>\n    <tr>\n      <td>3714</td>\n      <td>10400812X</td>\n      <td>1311</td>\n      <td>3090</td>\n      <td>0</td>\n      <td>4361</td>\n      <td>183</td>\n      <td>21</td>\n      <td>2001</td>\n      <td>0</td>\n      <td>0.0</td>\n      <td>0.0</td>\n    </tr>\n    <tr>\n      <td>5001</td>\n      <td>105220528</td>\n      <td>1311</td>\n      <td>51247</td>\n      <td>0</td>\n      <td>1740</td>\n      <td>301</td>\n      <td>53</td>\n      <td>2001</td>\n      <td>0</td>\n      <td>0.0</td>\n      <td>0.0</td>\n    </tr>\n    <tr>\n      <td>5004</td>\n      <td>105220624</td>\n      <td>1311</td>\n      <td>2048</td>\n      <td>0</td>\n      <td>710</td>\n      <td>11</td>\n      <td>48</td>\n      <td>2001</td>\n      <td>0</td>\n      <td>0.0</td>\n      <td>0.0</td>\n    </tr>\n    <tr>\n      <td>5009</td>\n      <td>10522131X</td>\n      <td>1311</td>\n      <td>40300</td>\n      <td>0</td>\n      <td>442</td>\n      <td>320</td>\n      <td>35</td>\n      <td>2001</td>\n      <td>0</td>\n      <td>0.0</td>\n      <td>0.0</td>\n    </tr>\n    <tr>\n      <td>...</td>\n      <td>...</td>\n      <td>...</td>\n      <td>...</td>\n      <td>...</td>\n      <td>...</td>\n      <td>...</td>\n      <td>...</td>\n      <td>...</td>\n      <td>...</td>\n      <td>...</td>\n      <td>...</td>\n    </tr>\n    <tr>\n      <td>139761</td>\n      <td>X29454305</td>\n      <td>1311</td>\n      <td>11376</td>\n      <td>0</td>\n      <td>2728</td>\n      <td>136</td>\n      <td>262</td>\n      <td>2001</td>\n      <td>0</td>\n      <td>0.0</td>\n      <td>0.0</td>\n    </tr>\n    <tr>\n      <td>140141</td>\n      <td>gx0204421</td>\n      <td>1311</td>\n      <td>12414</td>\n      <td>0</td>\n      <td>14830</td>\n      <td>710</td>\n      <td>66</td>\n      <td>2001</td>\n      <td>0</td>\n      <td>0.0</td>\n      <td>0.0</td>\n    </tr>\n    <tr>\n      <td>140396</td>\n      <td>hu3932623</td>\n      <td>1311</td>\n      <td>30100</td>\n      <td>0</td>\n      <td>7200</td>\n      <td>220</td>\n      <td>35</td>\n      <td>2001</td>\n      <td>0</td>\n      <td>0.0</td>\n      <td>0.0</td>\n    </tr>\n    <tr>\n      <td>140402</td>\n      <td>k26214723</td>\n      <td>1311</td>\n      <td>15322</td>\n      <td>0</td>\n      <td>1347</td>\n      <td>511</td>\n      <td>148</td>\n      <td>2001</td>\n      <td>0</td>\n      <td>0.0</td>\n      <td>0.0</td>\n    </tr>\n    <tr>\n      <td>140403</td>\n      <td>k26214758</td>\n      <td>1311</td>\n      <td>16209</td>\n      <td>0</td>\n      <td>1308</td>\n      <td>137</td>\n      <td>242</td>\n      <td>2001</td>\n      <td>0</td>\n      <td>0.0</td>\n      <td>0.0</td>\n    </tr>\n  </tbody>\n</table>\n<p>825 rows × 11 columns</p>\n</div>",
      "text/plain": "              crc  indtype  giovsaled  voexpg     fa  cwp  perseng  year  rnd  \\\n3710    104005746     1311      24300       0    210  270       40  2001    0   \n3714    10400812X     1311       3090       0   4361  183       21  2001    0   \n5001    105220528     1311      51247       0   1740  301       53  2001    0   \n5004    105220624     1311       2048       0    710   11       48  2001    0   \n5009    10522131X     1311      40300       0    442  320       35  2001    0   \n...           ...      ...        ...     ...    ...  ...      ...   ...  ...   \n139761  X29454305     1311      11376       0   2728  136      262  2001    0   \n140141  gx0204421     1311      12414       0  14830  710       66  2001    0   \n140396  hu3932623     1311      30100       0   7200  220       35  2001    0   \n140402  k26214723     1311      15322       0   1347  511      148  2001    0   \n140403  k26214758     1311      16209       0   1308  137      242  2001    0   \n\n        rndinten  expinten  \n3710         0.0       0.0  \n3714         0.0       0.0  \n5001         0.0       0.0  \n5004         0.0       0.0  \n5009         0.0       0.0  \n...          ...       ...  \n139761       0.0       0.0  \n140141       0.0       0.0  \n140396       0.0       0.0  \n140402       0.0       0.0  \n140403       0.0       0.0  \n\n[825 rows x 11 columns]"
     },
     "execution_count": 37,
     "metadata": {},
     "output_type": "execute_result"
    }
   ],
   "source": [
    "df1"
   ]
  },
  {
   "cell_type": "code",
   "execution_count": 38,
   "metadata": {},
   "outputs": [
    {
     "data": {
      "text/html": "<div>\n<style scoped>\n    .dataframe tbody tr th:only-of-type {\n        vertical-align: middle;\n    }\n\n    .dataframe tbody tr th {\n        vertical-align: top;\n    }\n\n    .dataframe thead th {\n        text-align: right;\n    }\n</style>\n<table border=\"1\" class=\"dataframe\">\n  <thead>\n    <tr style=\"text-align: right;\">\n      <th></th>\n      <th>crc</th>\n      <th>indtype</th>\n      <th>giovsaled</th>\n      <th>voexpg</th>\n      <th>fa</th>\n      <th>cwp</th>\n      <th>perseng</th>\n      <th>year</th>\n      <th>rnd</th>\n      <th>rndinten</th>\n      <th>expinten</th>\n    </tr>\n  </thead>\n  <tbody>\n    <tr>\n      <td>299</td>\n      <td>101130410</td>\n      <td>1312</td>\n      <td>116447</td>\n      <td>0</td>\n      <td>105294</td>\n      <td>4886</td>\n      <td>345</td>\n      <td>2001</td>\n      <td>2</td>\n      <td>0.000017</td>\n      <td>0.0</td>\n    </tr>\n    <tr>\n      <td>356</td>\n      <td>101164960</td>\n      <td>1312</td>\n      <td>10655</td>\n      <td>0</td>\n      <td>7052</td>\n      <td>1285</td>\n      <td>71</td>\n      <td>2001</td>\n      <td>0</td>\n      <td>0.000000</td>\n      <td>0.0</td>\n    </tr>\n    <tr>\n      <td>525</td>\n      <td>101507273</td>\n      <td>1312</td>\n      <td>63462</td>\n      <td>0</td>\n      <td>48598</td>\n      <td>3250</td>\n      <td>270</td>\n      <td>2001</td>\n      <td>0</td>\n      <td>0.000000</td>\n      <td>0.0</td>\n    </tr>\n    <tr>\n      <td>534</td>\n      <td>101516655</td>\n      <td>1312</td>\n      <td>45991</td>\n      <td>0</td>\n      <td>25948</td>\n      <td>3561</td>\n      <td>193</td>\n      <td>2001</td>\n      <td>0</td>\n      <td>0.000000</td>\n      <td>0.0</td>\n    </tr>\n    <tr>\n      <td>948</td>\n      <td>101897750</td>\n      <td>1312</td>\n      <td>71099</td>\n      <td>0</td>\n      <td>47187</td>\n      <td>3411</td>\n      <td>219</td>\n      <td>2001</td>\n      <td>0</td>\n      <td>0.000000</td>\n      <td>0.0</td>\n    </tr>\n    <tr>\n      <td>...</td>\n      <td>...</td>\n      <td>...</td>\n      <td>...</td>\n      <td>...</td>\n      <td>...</td>\n      <td>...</td>\n      <td>...</td>\n      <td>...</td>\n      <td>...</td>\n      <td>...</td>\n      <td>...</td>\n    </tr>\n    <tr>\n      <td>140532</td>\n      <td>yg4339744</td>\n      <td>1312</td>\n      <td>11580</td>\n      <td>0</td>\n      <td>1280</td>\n      <td>190</td>\n      <td>38</td>\n      <td>2001</td>\n      <td>0</td>\n      <td>0.000000</td>\n      <td>0.0</td>\n    </tr>\n    <tr>\n      <td>140533</td>\n      <td>yg4339808</td>\n      <td>1312</td>\n      <td>10480</td>\n      <td>0</td>\n      <td>920</td>\n      <td>135</td>\n      <td>30</td>\n      <td>2001</td>\n      <td>0</td>\n      <td>0.000000</td>\n      <td>0.0</td>\n    </tr>\n    <tr>\n      <td>140534</td>\n      <td>yg4339816</td>\n      <td>1312</td>\n      <td>9783</td>\n      <td>0</td>\n      <td>1020</td>\n      <td>125</td>\n      <td>28</td>\n      <td>2001</td>\n      <td>0</td>\n      <td>0.000000</td>\n      <td>0.0</td>\n    </tr>\n    <tr>\n      <td>140535</td>\n      <td>yg4341254</td>\n      <td>1312</td>\n      <td>29018</td>\n      <td>0</td>\n      <td>2014</td>\n      <td>196</td>\n      <td>49</td>\n      <td>2001</td>\n      <td>0</td>\n      <td>0.000000</td>\n      <td>0.0</td>\n    </tr>\n    <tr>\n      <td>140536</td>\n      <td>yg4342249</td>\n      <td>1312</td>\n      <td>12740</td>\n      <td>0</td>\n      <td>1120</td>\n      <td>152</td>\n      <td>38</td>\n      <td>2001</td>\n      <td>0</td>\n      <td>0.000000</td>\n      <td>0.0</td>\n    </tr>\n  </tbody>\n</table>\n<p>1308 rows × 11 columns</p>\n</div>",
      "text/plain": "              crc  indtype  giovsaled  voexpg      fa   cwp  perseng  year  \\\n299     101130410     1312     116447       0  105294  4886      345  2001   \n356     101164960     1312      10655       0    7052  1285       71  2001   \n525     101507273     1312      63462       0   48598  3250      270  2001   \n534     101516655     1312      45991       0   25948  3561      193  2001   \n948     101897750     1312      71099       0   47187  3411      219  2001   \n...           ...      ...        ...     ...     ...   ...      ...   ...   \n140532  yg4339744     1312      11580       0    1280   190       38  2001   \n140533  yg4339808     1312      10480       0     920   135       30  2001   \n140534  yg4339816     1312       9783       0    1020   125       28  2001   \n140535  yg4341254     1312      29018       0    2014   196       49  2001   \n140536  yg4342249     1312      12740       0    1120   152       38  2001   \n\n        rnd  rndinten  expinten  \n299       2  0.000017       0.0  \n356       0  0.000000       0.0  \n525       0  0.000000       0.0  \n534       0  0.000000       0.0  \n948       0  0.000000       0.0  \n...     ...       ...       ...  \n140532    0  0.000000       0.0  \n140533    0  0.000000       0.0  \n140534    0  0.000000       0.0  \n140535    0  0.000000       0.0  \n140536    0  0.000000       0.0  \n\n[1308 rows x 11 columns]"
     },
     "execution_count": 38,
     "metadata": {},
     "output_type": "execute_result"
    }
   ],
   "source": [
    "df2"
   ]
  },
  {
   "cell_type": "code",
   "execution_count": 39,
   "metadata": {},
   "outputs": [
    {
     "data": {
      "text/html": "<div>\n<style scoped>\n    .dataframe tbody tr th:only-of-type {\n        vertical-align: middle;\n    }\n\n    .dataframe tbody tr th {\n        vertical-align: top;\n    }\n\n    .dataframe thead th {\n        text-align: right;\n    }\n</style>\n<table border=\"1\" class=\"dataframe\">\n  <thead>\n    <tr style=\"text-align: right;\">\n      <th></th>\n      <th>crc</th>\n      <th>indtype</th>\n      <th>giovsaled</th>\n      <th>voexpg</th>\n      <th>fa</th>\n      <th>cwp</th>\n      <th>perseng</th>\n      <th>year</th>\n      <th>rnd</th>\n      <th>rndinten</th>\n      <th>expinten</th>\n    </tr>\n  </thead>\n  <tbody>\n    <tr>\n      <td>299</td>\n      <td>101130410</td>\n      <td>1312</td>\n      <td>116447</td>\n      <td>0</td>\n      <td>105294</td>\n      <td>4886</td>\n      <td>345</td>\n      <td>2001</td>\n      <td>2</td>\n      <td>0.000017</td>\n      <td>0.0</td>\n    </tr>\n    <tr>\n      <td>356</td>\n      <td>101164960</td>\n      <td>1312</td>\n      <td>10655</td>\n      <td>0</td>\n      <td>7052</td>\n      <td>1285</td>\n      <td>71</td>\n      <td>2001</td>\n      <td>0</td>\n      <td>0.000000</td>\n      <td>0.0</td>\n    </tr>\n    <tr>\n      <td>525</td>\n      <td>101507273</td>\n      <td>1312</td>\n      <td>63462</td>\n      <td>0</td>\n      <td>48598</td>\n      <td>3250</td>\n      <td>270</td>\n      <td>2001</td>\n      <td>0</td>\n      <td>0.000000</td>\n      <td>0.0</td>\n    </tr>\n    <tr>\n      <td>534</td>\n      <td>101516655</td>\n      <td>1312</td>\n      <td>45991</td>\n      <td>0</td>\n      <td>25948</td>\n      <td>3561</td>\n      <td>193</td>\n      <td>2001</td>\n      <td>0</td>\n      <td>0.000000</td>\n      <td>0.0</td>\n    </tr>\n    <tr>\n      <td>948</td>\n      <td>101897750</td>\n      <td>1312</td>\n      <td>71099</td>\n      <td>0</td>\n      <td>47187</td>\n      <td>3411</td>\n      <td>219</td>\n      <td>2001</td>\n      <td>0</td>\n      <td>0.000000</td>\n      <td>0.0</td>\n    </tr>\n    <tr>\n      <td>...</td>\n      <td>...</td>\n      <td>...</td>\n      <td>...</td>\n      <td>...</td>\n      <td>...</td>\n      <td>...</td>\n      <td>...</td>\n      <td>...</td>\n      <td>...</td>\n      <td>...</td>\n      <td>...</td>\n    </tr>\n    <tr>\n      <td>139761</td>\n      <td>X29454305</td>\n      <td>1311</td>\n      <td>11376</td>\n      <td>0</td>\n      <td>2728</td>\n      <td>136</td>\n      <td>262</td>\n      <td>2001</td>\n      <td>0</td>\n      <td>0.000000</td>\n      <td>0.0</td>\n    </tr>\n    <tr>\n      <td>140141</td>\n      <td>gx0204421</td>\n      <td>1311</td>\n      <td>12414</td>\n      <td>0</td>\n      <td>14830</td>\n      <td>710</td>\n      <td>66</td>\n      <td>2001</td>\n      <td>0</td>\n      <td>0.000000</td>\n      <td>0.0</td>\n    </tr>\n    <tr>\n      <td>140396</td>\n      <td>hu3932623</td>\n      <td>1311</td>\n      <td>30100</td>\n      <td>0</td>\n      <td>7200</td>\n      <td>220</td>\n      <td>35</td>\n      <td>2001</td>\n      <td>0</td>\n      <td>0.000000</td>\n      <td>0.0</td>\n    </tr>\n    <tr>\n      <td>140402</td>\n      <td>k26214723</td>\n      <td>1311</td>\n      <td>15322</td>\n      <td>0</td>\n      <td>1347</td>\n      <td>511</td>\n      <td>148</td>\n      <td>2001</td>\n      <td>0</td>\n      <td>0.000000</td>\n      <td>0.0</td>\n    </tr>\n    <tr>\n      <td>140403</td>\n      <td>k26214758</td>\n      <td>1311</td>\n      <td>16209</td>\n      <td>0</td>\n      <td>1308</td>\n      <td>137</td>\n      <td>242</td>\n      <td>2001</td>\n      <td>0</td>\n      <td>0.000000</td>\n      <td>0.0</td>\n    </tr>\n  </tbody>\n</table>\n<p>2133 rows × 11 columns</p>\n</div>",
      "text/plain": "              crc  indtype  giovsaled  voexpg      fa   cwp  perseng  year  \\\n299     101130410     1312     116447       0  105294  4886      345  2001   \n356     101164960     1312      10655       0    7052  1285       71  2001   \n525     101507273     1312      63462       0   48598  3250      270  2001   \n534     101516655     1312      45991       0   25948  3561      193  2001   \n948     101897750     1312      71099       0   47187  3411      219  2001   \n...           ...      ...        ...     ...     ...   ...      ...   ...   \n139761  X29454305     1311      11376       0    2728   136      262  2001   \n140141  gx0204421     1311      12414       0   14830   710       66  2001   \n140396  hu3932623     1311      30100       0    7200   220       35  2001   \n140402  k26214723     1311      15322       0    1347   511      148  2001   \n140403  k26214758     1311      16209       0    1308   137      242  2001   \n\n        rnd  rndinten  expinten  \n299       2  0.000017       0.0  \n356       0  0.000000       0.0  \n525       0  0.000000       0.0  \n534       0  0.000000       0.0  \n948       0  0.000000       0.0  \n...     ...       ...       ...  \n139761    0  0.000000       0.0  \n140141    0  0.000000       0.0  \n140396    0  0.000000       0.0  \n140402    0  0.000000       0.0  \n140403    0  0.000000       0.0  \n\n[2133 rows x 11 columns]"
     },
     "execution_count": 39,
     "metadata": {},
     "output_type": "execute_result"
    }
   ],
   "source": [
    "df2.append(df1)"
   ]
  },
  {
   "cell_type": "code",
   "execution_count": null,
   "metadata": {},
   "outputs": [],
   "source": [
    "li = [1,2,3,1,2,4,5,6,3]\n",
    "data = pd.DataFrame({'type':li, 'oo':li})\n",
    "#print(data)\n",
    "df2 =  pd.DataFrame([[5, 6], [7, 8]],columns = ['type', 'oo'])\n",
    "data.append(df2,ignore_index=True)\n",
    "\n",
    "print(data)"
   ]
  },
  {
   "cell_type": "code",
   "execution_count": null,
   "metadata": {},
   "outputs": [],
   "source": [
    "with PdfPages('multipage_pdf.pdf') as pdf:\n",
    "    #plt.figure(1)\n",
    "    plt.plot(range(7), [3, 1, 4, 1, 5, 9, 2], 'r-o')\n",
    "    plt.title('id = 1')\n",
    "    pdf.savefig()  # saves the current figure into a pdf page\n",
    "    plt.close()\n",
    "\n",
    "    #plt.figure(2)\n",
    "    plt.plot(range(7), [4, 2, 3, 4, 5, 6, 1], 'r-o')\n",
    "    plt.title('id = 2')\n",
    "    pdf.savefig()  # saves the current figure into a pdf page\n",
    "    plt.close()\n"
   ]
  }
 ]
}
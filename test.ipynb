{
 "nbformat": 4,
 "nbformat_minor": 2,
 "metadata": {
  "language_info": {
   "name": "python",
   "codemirror_mode": {
    "name": "ipython",
    "version": 3
   },
   "version": "3.7.4-final"
  },
  "orig_nbformat": 2,
  "file_extension": ".py",
  "mimetype": "text/x-python",
  "name": "python",
  "npconvert_exporter": "python",
  "pygments_lexer": "ipython3",
  "version": 3,
  "kernelspec": {
   "name": "python37464bitbaseconda1cd2d0d6e41a416eb3bb8aebfedc92b4",
   "display_name": "Python 3.7.4 64-bit ('base': conda)"
  }
 },
 "cells": [
  {
   "cell_type": "code",
   "execution_count": 1,
   "metadata": {},
   "outputs": [],
   "source": [
    "import matplotlib.pyplot as plt\n",
    "import seaborn as sns\n",
    "from matplotlib.backends.backend_pdf import PdfPages\n",
    "import numpy as np\n",
    "import pandas as pd\n",
    "import scipy.io as sio\n",
    "import os\n",
    "import shutil \n",
    "from sklearn.cluster import KMeans\n",
    "from sklearn.preprocessing import StandardScaler"
   ]
  },
  {
   "cell_type": "code",
   "execution_count": 4,
   "metadata": {},
   "outputs": [
    {
     "data": {
      "text/html": "<div>\n<style scoped>\n    .dataframe tbody tr th:only-of-type {\n        vertical-align: middle;\n    }\n\n    .dataframe tbody tr th {\n        vertical-align: top;\n    }\n\n    .dataframe thead th {\n        text-align: right;\n    }\n</style>\n<table border=\"1\" class=\"dataframe\">\n  <thead>\n    <tr style=\"text-align: right;\">\n      <th></th>\n      <th>indtype</th>\n    </tr>\n  </thead>\n  <tbody>\n    <tr>\n      <td>0</td>\n      <td>1515</td>\n    </tr>\n    <tr>\n      <td>1</td>\n      <td>1711</td>\n    </tr>\n    <tr>\n      <td>2</td>\n      <td>4065</td>\n    </tr>\n    <tr>\n      <td>3</td>\n      <td>3538</td>\n    </tr>\n    <tr>\n      <td>4</td>\n      <td>1939</td>\n    </tr>\n    <tr>\n      <td>...</td>\n      <td>...</td>\n    </tr>\n    <tr>\n      <td>140537</td>\n      <td>1321</td>\n    </tr>\n    <tr>\n      <td>140538</td>\n      <td>3131</td>\n    </tr>\n    <tr>\n      <td>140539</td>\n      <td>4063</td>\n    </tr>\n    <tr>\n      <td>140540</td>\n      <td>1499</td>\n    </tr>\n    <tr>\n      <td>140541</td>\n      <td>3030</td>\n    </tr>\n  </tbody>\n</table>\n<p>140542 rows × 1 columns</p>\n</div>",
      "text/plain": "        indtype\n0          1515\n1          1711\n2          4065\n3          3538\n4          1939\n...         ...\n140537     1321\n140538     3131\n140539     4063\n140540     1499\n140541     3030\n\n[140542 rows x 1 columns]"
     },
     "execution_count": 4,
     "metadata": {},
     "output_type": "execute_result"
    }
   ],
   "source": [
    "infile = \"all_indtype.csv\"\n",
    "data = pd.read_csv(infile)\n",
    "data"
   ]
  },
  {
   "cell_type": "code",
   "execution_count": 72,
   "metadata": {},
   "outputs": [
    {
     "data": {
      "text/plain": "{15: {1515: 75,\n  1512: 923,\n  1523: 213,\n  1513: 459,\n  1521: 159,\n  1590: 92,\n  1522: 182,\n  1550: 269,\n  1511: 122,\n  1529: 91,\n  1524: 56,\n  1514: 74,\n  1516: 39},\n 17: {1711: 674,\n  1723: 911,\n  1790: 542,\n  1741: 75,\n  1773: 880,\n  1782: 770,\n  1744: 67,\n  1742: 515,\n  1781: 910,\n  1724: 644,\n  1775: 106,\n  1722: 1257,\n  1743: 190,\n  1721: 1431,\n  1712: 22,\n  1719: 204,\n  1774: 175,\n  1745: 36,\n  1789: 235,\n  1725: 157,\n  1726: 55,\n  1749: 118,\n  1729: 148,\n  1779: 45,\n  1783: 188,\n  1771: 439,\n  1763: 54,\n  1772: 101,\n  1762: 50,\n  1769: 30,\n  1713: 22,\n  1714: 34,\n  1761: 60},\n 40: {4065: 227,\n  4024: 754,\n  4021: 491,\n  4043: 160,\n  4041: 1784,\n  4073: 505,\n  4061: 89,\n  4080: 36,\n  4099: 118,\n  4027: 366,\n  4074: 108,\n  4063: 83,\n  4069: 532,\n  4091: 79,\n  4022: 36,\n  4029: 460,\n  4092: 38,\n  4013: 272,\n  4023: 108,\n  4071: 293,\n  4049: 238,\n  4066: 33,\n  4012: 390,\n  4045: 240,\n  4072: 76,\n  4079: 93,\n  4011: 131,\n  4046: 158,\n  4062: 30,\n  4064: 134},\n 35: {3538: 204,\n  3542: 567,\n  3569: 339,\n  3529: 304,\n  3519: 49,\n  3572: 276,\n  3571: 1508,\n  3564: 176,\n  3512: 144,\n  3521: 339,\n  3541: 612,\n  3531: 505,\n  3565: 422,\n  3526: 98,\n  3562: 111,\n  3561: 264,\n  3535: 119,\n  3533: 527,\n  3511: 399,\n  3537: 28,\n  3590: 350,\n  3580: 58,\n  3536: 172,\n  3515: 350,\n  3534: 153,\n  3525: 116,\n  3532: 43,\n  3523: 188,\n  3566: 126,\n  3513: 31,\n  3568: 147,\n  3567: 128,\n  3539: 242,\n  3563: 96,\n  3514: 20},\n 19: {1939: 66,\n  1923: 333,\n  1919: 92,\n  1929: 287,\n  1921: 1053,\n  1952: 220,\n  1924: 155,\n  1911: 391,\n  1951: 122,\n  1932: 49,\n  1925: 458,\n  1931: 65,\n  1912: 13},\n 26: {2619: 753,\n  2651: 779,\n  2622: 449,\n  2672: 461,\n  2652: 846,\n  2624: 414,\n  2617: 691,\n  2684: 191,\n  2677: 183,\n  2659: 402,\n  2685: 210,\n  2661: 100,\n  2663: 105,\n  2671: 938,\n  2681: 266,\n  2667: 51,\n  2669: 112,\n  2689: 174,\n  2633: 344,\n  2655: 320,\n  2664: 121,\n  2675: 132,\n  2629: 175,\n  2666: 68,\n  2611: 302,\n  2662: 153,\n  2615: 78,\n  2653: 130,\n  2654: 246,\n  2683: 41,\n  2631: 206,\n  2621: 535,\n  2613: 128,\n  2623: 26,\n  2673: 191,\n  2665: 62,\n  2625: 28,\n  2687: 39,\n  2682: 20,\n  2688: 45,\n  2686: 31},\n 32: {3240: 1567, 3260: 531, 3210: 553, 3220: 224},\n 36: {3621: 202,\n  3635: 465,\n  3683: 41,\n  3631: 195,\n  3613: 129,\n  3671: 232,\n  3627: 130,\n  3654: 238,\n  3644: 19,\n  3652: 163,\n  3628: 61,\n  3636: 27,\n  3681: 46,\n  3626: 66,\n  3675: 51,\n  3678: 169,\n  3619: 108,\n  3623: 19,\n  3679: 210,\n  3649: 213,\n  3622: 189,\n  3677: 202,\n  3672: 37,\n  3642: 342,\n  3629: 156,\n  3651: 52,\n  3617: 79,\n  3643: 6,\n  3645: 27,\n  3615: 32,\n  3653: 69,\n  3685: 5,\n  3689: 62,\n  3611: 295,\n  3625: 178,\n  3647: 243,\n  3646: 47,\n  3676: 17,\n  3674: 157,\n  3624: 46,\n  3638: 113,\n  3655: 28,\n  3639: 33,\n  3632: 255,\n  3634: 103,\n  3641: 107,\n  3633: 28,\n  3637: 11,\n  3673: 1},\n 13: {1342: 861,\n  1390: 837,\n  1321: 983,\n  1314: 1370,\n  1341: 530,\n  1312: 1308,\n  1344: 44,\n  1317: 104,\n  1313: 243,\n  1360: 44,\n  1315: 48,\n  1343: 105,\n  1352: 111,\n  1351: 689,\n  1334: 28,\n  1322: 35,\n  1311: 825,\n  1332: 51,\n  1353: 28,\n  1319: 67,\n  1354: 22,\n  1359: 39,\n  1331: 238},\n 20: {2031: 416,\n  2021: 683,\n  2011: 197,\n  2012: 110,\n  2033: 306,\n  2040: 241,\n  2023: 98,\n  2029: 307,\n  2022: 166},\n 37: {3717: 43,\n  3727: 2510,\n  3732: 888,\n  3782: 877,\n  3789: 15,\n  3721: 62,\n  3725: 239,\n  3722: 76,\n  3786: 24,\n  3714: 133,\n  3715: 16,\n  3726: 82,\n  3716: 22,\n  3793: 50,\n  3713: 11,\n  3740: 393,\n  3781: 56,\n  3719: 22,\n  3761: 52,\n  3723: 16,\n  3731: 220,\n  3785: 152,\n  3711: 5,\n  3764: 67,\n  3763: 42,\n  3712: 6,\n  3724: 27,\n  3783: 5,\n  3762: 81,\n  3792: 3,\n  3791: 2,\n  3750: 4,\n  3784: 1},\n 31: {3169: 654,\n  3133: 628,\n  3110: 4279,\n  3123: 387,\n  3171: 170,\n  3161: 81,\n  3131: 1295,\n  3181: 161,\n  3121: 1088,\n  3147: 477,\n  3141: 196,\n  3190: 553,\n  3134: 217,\n  3139: 133,\n  3182: 226,\n  3135: 156,\n  3129: 27,\n  3142: 123,\n  3153: 168,\n  3136: 141,\n  3159: 58,\n  3124: 63,\n  3149: 136,\n  3151: 878,\n  3148: 50,\n  3143: 58,\n  3179: 108,\n  3172: 35,\n  3155: 617,\n  3132: 128,\n  3163: 30,\n  3145: 26,\n  3189: 15},\n 22: {2230: 2217, 2210: 57, 2221: 2159, 2224: 157, 2223: 8, 2220: 2},\n 33: {3311: 182,\n  3383: 490,\n  3381: 515,\n  3312: 282,\n  3321: 228,\n  3360: 103,\n  3316: 22,\n  3314: 15},\n 18: {1810: 6626, 1830: 573, 1820: 151, 1890: 358},\n 29: {2930: 350,\n  2940: 256,\n  2910: 190,\n  2990: 284,\n  2950: 79,\n  2981: 30,\n  2920: 68,\n  2960: 242,\n  2970: 115,\n  2989: 7},\n 34: {3483: 589,\n  3420: 302,\n  3499: 427,\n  3482: 440,\n  3469: 187,\n  3487: 147,\n  3465: 586,\n  3431: 258,\n  3434: 433,\n  3441: 44,\n  3410: 877,\n  3435: 322,\n  3486: 133,\n  3463: 375,\n  3470: 578,\n  3450: 791,\n  3442: 676,\n  3491: 110,\n  3489: 391,\n  3439: 65,\n  3495: 136,\n  3461: 201,\n  3485: 248,\n  3481: 122,\n  3484: 103,\n  3488: 44},\n 28: {2829: 149,\n  2811: 27,\n  2812: 57,\n  2824: 8,\n  2822: 321,\n  2859: 53,\n  2854: 55,\n  2821: 66,\n  2823: 21,\n  2819: 36,\n  2851: 10,\n  2852: 5,\n  2853: 5},\n 30: {3050: 503,\n  3030: 944,\n  3010: 666,\n  3070: 555,\n  3020: 872,\n  3090: 1403,\n  3040: 719,\n  3080: 438,\n  3060: 324},\n 43: {4351: 31,\n  4316: 324,\n  4318: 212,\n  4313: 33,\n  4312: 148,\n  4392: 461,\n  4317: 322,\n  4319: 814,\n  4311: 395,\n  4353: 214,\n  4391: 180,\n  4357: 135,\n  4314: 116,\n  4315: 417,\n  4355: 143},\n 14: {1415: 124,\n  1411: 195,\n  1497: 56,\n  1413: 215,\n  1499: 318,\n  1414: 253,\n  1453: 99,\n  1459: 52,\n  1412: 344,\n  1491: 119,\n  1419: 52,\n  1442: 80,\n  1420: 379,\n  1452: 52,\n  1451: 351,\n  1449: 42,\n  1492: 363,\n  1498: 148,\n  1434: 117,\n  1441: 21,\n  1445: 32,\n  1444: 31,\n  1435: 196,\n  1495: 22,\n  1443: 29,\n  1439: 46,\n  1433: 24,\n  1431: 35,\n  1454: 19,\n  1432: 1,\n  1493: 17},\n 24: {2490: 51,\n  2413: 99,\n  2433: 73,\n  2411: 181,\n  2450: 20,\n  2440: 860,\n  2415: 162,\n  2429: 130,\n  2423: 105,\n  2419: 55,\n  2421: 86,\n  2431: 17,\n  2417: 31,\n  2435: 13,\n  2439: 18},\n 23: {2319: 728, 2312: 1121, 2311: 1144, 2320: 51},\n 21: {2110: 1001, 2190: 173, 2130: 297, 2120: 19, 2140: 12},\n 25: {2530: 336, 2520: 251, 2570: 320, 2510: 14},\n 41: {4160: 1666,\n  4143: 293,\n  4119: 333,\n  4155: 149,\n  4130: 87,\n  4151: 94,\n  4153: 252,\n  4112: 138,\n  4141: 116,\n  4173: 54,\n  4171: 202,\n  4190: 441,\n  4111: 129,\n  4172: 240,\n  4113: 161,\n  4189: 7,\n  4181: 4,\n  4183: 1},\n 27: {2710: 652, 2720: 848, 2750: 265, 2730: 1132, 2740: 212},\n 16: {1620: 135, 1610: 80, 1690: 25},\n 42: {4212: 175,\n  4229: 65,\n  4215: 35,\n  4211: 258,\n  4260: 230,\n  4228: 5,\n  4242: 56,\n  4254: 82,\n  4216: 40,\n  4219: 69,\n  4230: 75,\n  4217: 24,\n  4225: 26,\n  4257: 14,\n  4259: 34,\n  4290: 68,\n  4243: 85,\n  4213: 147,\n  4223: 22,\n  4214: 36,\n  4252: 6,\n  4226: 5,\n  4221: 27,\n  4218: 57,\n  4256: 32,\n  4227: 48,\n  4280: 10,\n  4241: 20,\n  4251: 4,\n  4222: 37,\n  4224: 2}}"
     },
     "execution_count": 72,
     "metadata": {},
     "output_type": "execute_result"
    }
   ],
   "source": [
    "data_to_count = data['indtype']\n",
    "intdic = {}\n",
    "for i in data_to_count: #count appe time\n",
    "    cur_key = int(i/100)\n",
    "    if cur_key in intdic:\n",
    "        if i in intdic[cur_key]:\n",
    "            intdic[cur_key][i] += 1\n",
    "        else:\n",
    "            intdic[cur_key][i] = 1\n",
    "    else:\n",
    "        intdic[cur_key] = {i:1}\n",
    "intdic"
   ]
  },
  {
   "cell_type": "code",
   "execution_count": 71,
   "metadata": {},
   "outputs": [
    {
     "name": "stdout",
     "output_type": "stream",
     "text": "{15: 2754, 17: 11145, 40: 8062, 35: 9211, 19: 3304, 26: 10546, 32: 2875, 36: 5704, 13: 8610, 20: 2524, 37: 6202, 31: 13362, 22: 4600, 18: 7708, 34: 8585, 30: 6424, 43: 3945, 14: 3832, 23: 3044, 41: 4367, 27: 3109}\n[]\n"
    },
    {
     "data": {
      "text/plain": "[13,\n 14,\n 15,\n 17,\n 18,\n 19,\n 20,\n 22,\n 23,\n 26,\n 27,\n 30,\n 31,\n 32,\n 34,\n 35,\n 36,\n 37,\n 40,\n 41,\n 43]"
     },
     "execution_count": 71,
     "metadata": {},
     "output_type": "execute_result"
    }
   ],
   "source": [
    "del_list = []\n",
    "count_dic = {}\n",
    "clusternum = 2\n",
    "for i in intdic:\n",
    "    summ = 0\n",
    "    for j in intdic[i]:\n",
    "        summ += intdic[i][j]\n",
    "    if summ < clusternumber:\n",
    "        del_list.append(i)\n",
    "    else:\n",
    "        count_dic[i] = summ\n",
    "\n",
    "print(count_dic)\n",
    "print(del_list)\n",
    "##drop small group\n",
    "for i in del_list:\n",
    "    del intdic[i]\n",
    "order_dickey = list(intdic.keys())\n",
    "order_dickey.sort()\n",
    "order_dickey"
   ]
  },
  {
   "cell_type": "code",
   "execution_count": 49,
   "metadata": {},
   "outputs": [],
   "source": [
    "data = pd.read_csv(\"2001_big.csv\")\n",
    "order_dickey = list(intdic.keys())\n",
    "order_dickey.sort()\n",
    "#for i in order_dickey:\n",
    "i = order_dickey[0]\n",
    "avail_keygroup = list(intdic[i].keys())\n",
    "avail_keygroup.sort()\n",
    "data_to_processed = data[data['indtype'] == avail_keygroup[0]]\n",
    "for j in avail_keygroup[1:]:\n",
    "    df2 = data[data['indtype'] == j]\n",
    "    data_to_processed = data_to_processed.append(df2)\n",
    "\n"
   ]
  },
  {
   "cell_type": "code",
   "execution_count": 50,
   "metadata": {},
   "outputs": [
    {
     "data": {
      "text/html": "<div>\n<style scoped>\n    .dataframe tbody tr th:only-of-type {\n        vertical-align: middle;\n    }\n\n    .dataframe tbody tr th {\n        vertical-align: top;\n    }\n\n    .dataframe thead th {\n        text-align: right;\n    }\n</style>\n<table border=\"1\" class=\"dataframe\">\n  <thead>\n    <tr style=\"text-align: right;\">\n      <th></th>\n      <th>crc</th>\n      <th>indtype</th>\n      <th>giovsaled</th>\n      <th>voexpg</th>\n      <th>fa</th>\n      <th>cwp</th>\n      <th>perseng</th>\n      <th>year</th>\n      <th>rnd</th>\n      <th>rndinten</th>\n      <th>expinten</th>\n    </tr>\n  </thead>\n  <tbody>\n    <tr>\n      <td>3710</td>\n      <td>104005746</td>\n      <td>1311</td>\n      <td>24300</td>\n      <td>0</td>\n      <td>210</td>\n      <td>270</td>\n      <td>40</td>\n      <td>2001</td>\n      <td>0</td>\n      <td>0.000000</td>\n      <td>0.000000</td>\n    </tr>\n    <tr>\n      <td>3714</td>\n      <td>10400812X</td>\n      <td>1311</td>\n      <td>3090</td>\n      <td>0</td>\n      <td>4361</td>\n      <td>183</td>\n      <td>21</td>\n      <td>2001</td>\n      <td>0</td>\n      <td>0.000000</td>\n      <td>0.000000</td>\n    </tr>\n    <tr>\n      <td>5001</td>\n      <td>105220528</td>\n      <td>1311</td>\n      <td>51247</td>\n      <td>0</td>\n      <td>1740</td>\n      <td>301</td>\n      <td>53</td>\n      <td>2001</td>\n      <td>0</td>\n      <td>0.000000</td>\n      <td>0.000000</td>\n    </tr>\n    <tr>\n      <td>5004</td>\n      <td>105220624</td>\n      <td>1311</td>\n      <td>2048</td>\n      <td>0</td>\n      <td>710</td>\n      <td>11</td>\n      <td>48</td>\n      <td>2001</td>\n      <td>0</td>\n      <td>0.000000</td>\n      <td>0.000000</td>\n    </tr>\n    <tr>\n      <td>5009</td>\n      <td>10522131X</td>\n      <td>1311</td>\n      <td>40300</td>\n      <td>0</td>\n      <td>442</td>\n      <td>320</td>\n      <td>35</td>\n      <td>2001</td>\n      <td>0</td>\n      <td>0.000000</td>\n      <td>0.000000</td>\n    </tr>\n    <tr>\n      <td>...</td>\n      <td>...</td>\n      <td>...</td>\n      <td>...</td>\n      <td>...</td>\n      <td>...</td>\n      <td>...</td>\n      <td>...</td>\n      <td>...</td>\n      <td>...</td>\n      <td>...</td>\n      <td>...</td>\n    </tr>\n    <tr>\n      <td>139656</td>\n      <td>X21227183</td>\n      <td>1390</td>\n      <td>9050</td>\n      <td>0</td>\n      <td>560</td>\n      <td>410</td>\n      <td>58</td>\n      <td>2001</td>\n      <td>0</td>\n      <td>0.000000</td>\n      <td>0.000000</td>\n    </tr>\n    <tr>\n      <td>139929</td>\n      <td>YA3676739</td>\n      <td>1390</td>\n      <td>8000</td>\n      <td>0</td>\n      <td>580</td>\n      <td>106</td>\n      <td>11</td>\n      <td>2001</td>\n      <td>0</td>\n      <td>0.000000</td>\n      <td>0.000000</td>\n    </tr>\n    <tr>\n      <td>140297</td>\n      <td>hb282009x</td>\n      <td>1390</td>\n      <td>39200</td>\n      <td>39200</td>\n      <td>6576</td>\n      <td>408</td>\n      <td>240</td>\n      <td>2001</td>\n      <td>3</td>\n      <td>0.000077</td>\n      <td>1.000000</td>\n    </tr>\n    <tr>\n      <td>140505</td>\n      <td>x12947222</td>\n      <td>1390</td>\n      <td>8847</td>\n      <td>0</td>\n      <td>2029</td>\n      <td>210</td>\n      <td>120</td>\n      <td>2001</td>\n      <td>0</td>\n      <td>0.000000</td>\n      <td>0.000000</td>\n    </tr>\n    <tr>\n      <td>140509</td>\n      <td>x13513323</td>\n      <td>1390</td>\n      <td>11241</td>\n      <td>9936</td>\n      <td>1650</td>\n      <td>190</td>\n      <td>38</td>\n      <td>2001</td>\n      <td>0</td>\n      <td>0.000000</td>\n      <td>0.883907</td>\n    </tr>\n  </tbody>\n</table>\n<p>8610 rows × 11 columns</p>\n</div>",
      "text/plain": "              crc  indtype  giovsaled  voexpg    fa  cwp  perseng  year  rnd  \\\n3710    104005746     1311      24300       0   210  270       40  2001    0   \n3714    10400812X     1311       3090       0  4361  183       21  2001    0   \n5001    105220528     1311      51247       0  1740  301       53  2001    0   \n5004    105220624     1311       2048       0   710   11       48  2001    0   \n5009    10522131X     1311      40300       0   442  320       35  2001    0   \n...           ...      ...        ...     ...   ...  ...      ...   ...  ...   \n139656  X21227183     1390       9050       0   560  410       58  2001    0   \n139929  YA3676739     1390       8000       0   580  106       11  2001    0   \n140297  hb282009x     1390      39200   39200  6576  408      240  2001    3   \n140505  x12947222     1390       8847       0  2029  210      120  2001    0   \n140509  x13513323     1390      11241    9936  1650  190       38  2001    0   \n\n        rndinten  expinten  \n3710    0.000000  0.000000  \n3714    0.000000  0.000000  \n5001    0.000000  0.000000  \n5004    0.000000  0.000000  \n5009    0.000000  0.000000  \n...          ...       ...  \n139656  0.000000  0.000000  \n139929  0.000000  0.000000  \n140297  0.000077  1.000000  \n140505  0.000000  0.000000  \n140509  0.000000  0.883907  \n\n[8610 rows x 11 columns]"
     },
     "execution_count": 50,
     "metadata": {},
     "output_type": "execute_result"
    }
   ],
   "source": [
    "data_to_processed"
   ]
  },
  {
   "cell_type": "code",
   "execution_count": 66,
   "metadata": {},
   "outputs": [],
   "source": [
    "data_feature = [] ##[group, giovsaled, perseng, voexpg, expinten, fa, ave_cwp]\n",
    "data_to_processed['ave_cwp'] = data_to_processed['cwp'] / data_to_processed['perseng']\n",
    "data_feature.append(['13xx',data_to_processed['giovsaled'].mean(), data_to_processed['perseng'].mean(), data_to_processed['voexpg'].mean(),data_to_processed['expinten'].mean(),data_to_processed['fa'].mean(),data_to_processed['ave_cwp'].mean()])"
   ]
  },
  {
   "cell_type": "code",
   "execution_count": 67,
   "metadata": {},
   "outputs": [
    {
     "data": {
      "text/plain": "[['13xx',\n  42984.1831591173,\n  174.89430894308944,\n  4991.798606271777,\n  0.10075010401372722,\n  13588.771196283391,\n  7.400332273420585]]"
     },
     "execution_count": 67,
     "metadata": {},
     "output_type": "execute_result"
    }
   ],
   "source": [
    "data_feature"
   ]
  },
  {
   "cell_type": "code",
   "execution_count": 69,
   "metadata": {},
   "outputs": [
    {
     "data": {
      "text/html": "<div>\n<style scoped>\n    .dataframe tbody tr th:only-of-type {\n        vertical-align: middle;\n    }\n\n    .dataframe tbody tr th {\n        vertical-align: top;\n    }\n\n    .dataframe thead th {\n        text-align: right;\n    }\n</style>\n<table border=\"1\" class=\"dataframe\">\n  <thead>\n    <tr style=\"text-align: right;\">\n      <th></th>\n      <th>group</th>\n      <th>ave_giovsaled</th>\n      <th>ave_perseng</th>\n      <th>ave_voexpg</th>\n      <th>ave_expinten</th>\n      <th>ave_fa</th>\n      <th>ave_cwp</th>\n    </tr>\n  </thead>\n  <tbody>\n    <tr>\n      <td>0</td>\n      <td>13xx</td>\n      <td>42984.183159</td>\n      <td>174.894309</td>\n      <td>4991.798606</td>\n      <td>0.10075</td>\n      <td>13588.771196</td>\n      <td>7.400332</td>\n    </tr>\n  </tbody>\n</table>\n</div>",
      "text/plain": "  group  ave_giovsaled  ave_perseng   ave_voexpg  ave_expinten        ave_fa  \\\n0  13xx   42984.183159   174.894309  4991.798606       0.10075  13588.771196   \n\n    ave_cwp  \n0  7.400332  "
     },
     "execution_count": 69,
     "metadata": {},
     "output_type": "execute_result"
    }
   ],
   "source": [
    "dd = pd.DataFrame(data_feature, columns = ['group', 'ave_giovsaled', 'ave_perseng', 'ave_voexpg', 'ave_expinten', 'ave_fa', 'ave_cwp'])\n",
    "dd"
   ]
  },
  {
   "cell_type": "code",
   "execution_count": 38,
   "metadata": {},
   "outputs": [
    {
     "data": {
      "text/html": "<div>\n<style scoped>\n    .dataframe tbody tr th:only-of-type {\n        vertical-align: middle;\n    }\n\n    .dataframe tbody tr th {\n        vertical-align: top;\n    }\n\n    .dataframe thead th {\n        text-align: right;\n    }\n</style>\n<table border=\"1\" class=\"dataframe\">\n  <thead>\n    <tr style=\"text-align: right;\">\n      <th></th>\n      <th>crc</th>\n      <th>indtype</th>\n      <th>giovsaled</th>\n      <th>voexpg</th>\n      <th>fa</th>\n      <th>cwp</th>\n      <th>perseng</th>\n      <th>year</th>\n      <th>rnd</th>\n      <th>rndinten</th>\n      <th>expinten</th>\n    </tr>\n  </thead>\n  <tbody>\n    <tr>\n      <td>299</td>\n      <td>101130410</td>\n      <td>1312</td>\n      <td>116447</td>\n      <td>0</td>\n      <td>105294</td>\n      <td>4886</td>\n      <td>345</td>\n      <td>2001</td>\n      <td>2</td>\n      <td>0.000017</td>\n      <td>0.0</td>\n    </tr>\n    <tr>\n      <td>356</td>\n      <td>101164960</td>\n      <td>1312</td>\n      <td>10655</td>\n      <td>0</td>\n      <td>7052</td>\n      <td>1285</td>\n      <td>71</td>\n      <td>2001</td>\n      <td>0</td>\n      <td>0.000000</td>\n      <td>0.0</td>\n    </tr>\n    <tr>\n      <td>525</td>\n      <td>101507273</td>\n      <td>1312</td>\n      <td>63462</td>\n      <td>0</td>\n      <td>48598</td>\n      <td>3250</td>\n      <td>270</td>\n      <td>2001</td>\n      <td>0</td>\n      <td>0.000000</td>\n      <td>0.0</td>\n    </tr>\n    <tr>\n      <td>534</td>\n      <td>101516655</td>\n      <td>1312</td>\n      <td>45991</td>\n      <td>0</td>\n      <td>25948</td>\n      <td>3561</td>\n      <td>193</td>\n      <td>2001</td>\n      <td>0</td>\n      <td>0.000000</td>\n      <td>0.0</td>\n    </tr>\n    <tr>\n      <td>948</td>\n      <td>101897750</td>\n      <td>1312</td>\n      <td>71099</td>\n      <td>0</td>\n      <td>47187</td>\n      <td>3411</td>\n      <td>219</td>\n      <td>2001</td>\n      <td>0</td>\n      <td>0.000000</td>\n      <td>0.0</td>\n    </tr>\n    <tr>\n      <td>...</td>\n      <td>...</td>\n      <td>...</td>\n      <td>...</td>\n      <td>...</td>\n      <td>...</td>\n      <td>...</td>\n      <td>...</td>\n      <td>...</td>\n      <td>...</td>\n      <td>...</td>\n      <td>...</td>\n    </tr>\n    <tr>\n      <td>140532</td>\n      <td>yg4339744</td>\n      <td>1312</td>\n      <td>11580</td>\n      <td>0</td>\n      <td>1280</td>\n      <td>190</td>\n      <td>38</td>\n      <td>2001</td>\n      <td>0</td>\n      <td>0.000000</td>\n      <td>0.0</td>\n    </tr>\n    <tr>\n      <td>140533</td>\n      <td>yg4339808</td>\n      <td>1312</td>\n      <td>10480</td>\n      <td>0</td>\n      <td>920</td>\n      <td>135</td>\n      <td>30</td>\n      <td>2001</td>\n      <td>0</td>\n      <td>0.000000</td>\n      <td>0.0</td>\n    </tr>\n    <tr>\n      <td>140534</td>\n      <td>yg4339816</td>\n      <td>1312</td>\n      <td>9783</td>\n      <td>0</td>\n      <td>1020</td>\n      <td>125</td>\n      <td>28</td>\n      <td>2001</td>\n      <td>0</td>\n      <td>0.000000</td>\n      <td>0.0</td>\n    </tr>\n    <tr>\n      <td>140535</td>\n      <td>yg4341254</td>\n      <td>1312</td>\n      <td>29018</td>\n      <td>0</td>\n      <td>2014</td>\n      <td>196</td>\n      <td>49</td>\n      <td>2001</td>\n      <td>0</td>\n      <td>0.000000</td>\n      <td>0.0</td>\n    </tr>\n    <tr>\n      <td>140536</td>\n      <td>yg4342249</td>\n      <td>1312</td>\n      <td>12740</td>\n      <td>0</td>\n      <td>1120</td>\n      <td>152</td>\n      <td>38</td>\n      <td>2001</td>\n      <td>0</td>\n      <td>0.000000</td>\n      <td>0.0</td>\n    </tr>\n  </tbody>\n</table>\n<p>1308 rows × 11 columns</p>\n</div>",
      "text/plain": "              crc  indtype  giovsaled  voexpg      fa   cwp  perseng  year  \\\n299     101130410     1312     116447       0  105294  4886      345  2001   \n356     101164960     1312      10655       0    7052  1285       71  2001   \n525     101507273     1312      63462       0   48598  3250      270  2001   \n534     101516655     1312      45991       0   25948  3561      193  2001   \n948     101897750     1312      71099       0   47187  3411      219  2001   \n...           ...      ...        ...     ...     ...   ...      ...   ...   \n140532  yg4339744     1312      11580       0    1280   190       38  2001   \n140533  yg4339808     1312      10480       0     920   135       30  2001   \n140534  yg4339816     1312       9783       0    1020   125       28  2001   \n140535  yg4341254     1312      29018       0    2014   196       49  2001   \n140536  yg4342249     1312      12740       0    1120   152       38  2001   \n\n        rnd  rndinten  expinten  \n299       2  0.000017       0.0  \n356       0  0.000000       0.0  \n525       0  0.000000       0.0  \n534       0  0.000000       0.0  \n948       0  0.000000       0.0  \n...     ...       ...       ...  \n140532    0  0.000000       0.0  \n140533    0  0.000000       0.0  \n140534    0  0.000000       0.0  \n140535    0  0.000000       0.0  \n140536    0  0.000000       0.0  \n\n[1308 rows x 11 columns]"
     },
     "execution_count": 38,
     "metadata": {},
     "output_type": "execute_result"
    }
   ],
   "source": [
    "df2"
   ]
  },
  {
   "cell_type": "code",
   "execution_count": 39,
   "metadata": {},
   "outputs": [
    {
     "data": {
      "text/html": "<div>\n<style scoped>\n    .dataframe tbody tr th:only-of-type {\n        vertical-align: middle;\n    }\n\n    .dataframe tbody tr th {\n        vertical-align: top;\n    }\n\n    .dataframe thead th {\n        text-align: right;\n    }\n</style>\n<table border=\"1\" class=\"dataframe\">\n  <thead>\n    <tr style=\"text-align: right;\">\n      <th></th>\n      <th>crc</th>\n      <th>indtype</th>\n      <th>giovsaled</th>\n      <th>voexpg</th>\n      <th>fa</th>\n      <th>cwp</th>\n      <th>perseng</th>\n      <th>year</th>\n      <th>rnd</th>\n      <th>rndinten</th>\n      <th>expinten</th>\n    </tr>\n  </thead>\n  <tbody>\n    <tr>\n      <td>299</td>\n      <td>101130410</td>\n      <td>1312</td>\n      <td>116447</td>\n      <td>0</td>\n      <td>105294</td>\n      <td>4886</td>\n      <td>345</td>\n      <td>2001</td>\n      <td>2</td>\n      <td>0.000017</td>\n      <td>0.0</td>\n    </tr>\n    <tr>\n      <td>356</td>\n      <td>101164960</td>\n      <td>1312</td>\n      <td>10655</td>\n      <td>0</td>\n      <td>7052</td>\n      <td>1285</td>\n      <td>71</td>\n      <td>2001</td>\n      <td>0</td>\n      <td>0.000000</td>\n      <td>0.0</td>\n    </tr>\n    <tr>\n      <td>525</td>\n      <td>101507273</td>\n      <td>1312</td>\n      <td>63462</td>\n      <td>0</td>\n      <td>48598</td>\n      <td>3250</td>\n      <td>270</td>\n      <td>2001</td>\n      <td>0</td>\n      <td>0.000000</td>\n      <td>0.0</td>\n    </tr>\n    <tr>\n      <td>534</td>\n      <td>101516655</td>\n      <td>1312</td>\n      <td>45991</td>\n      <td>0</td>\n      <td>25948</td>\n      <td>3561</td>\n      <td>193</td>\n      <td>2001</td>\n      <td>0</td>\n      <td>0.000000</td>\n      <td>0.0</td>\n    </tr>\n    <tr>\n      <td>948</td>\n      <td>101897750</td>\n      <td>1312</td>\n      <td>71099</td>\n      <td>0</td>\n      <td>47187</td>\n      <td>3411</td>\n      <td>219</td>\n      <td>2001</td>\n      <td>0</td>\n      <td>0.000000</td>\n      <td>0.0</td>\n    </tr>\n    <tr>\n      <td>...</td>\n      <td>...</td>\n      <td>...</td>\n      <td>...</td>\n      <td>...</td>\n      <td>...</td>\n      <td>...</td>\n      <td>...</td>\n      <td>...</td>\n      <td>...</td>\n      <td>...</td>\n      <td>...</td>\n    </tr>\n    <tr>\n      <td>139761</td>\n      <td>X29454305</td>\n      <td>1311</td>\n      <td>11376</td>\n      <td>0</td>\n      <td>2728</td>\n      <td>136</td>\n      <td>262</td>\n      <td>2001</td>\n      <td>0</td>\n      <td>0.000000</td>\n      <td>0.0</td>\n    </tr>\n    <tr>\n      <td>140141</td>\n      <td>gx0204421</td>\n      <td>1311</td>\n      <td>12414</td>\n      <td>0</td>\n      <td>14830</td>\n      <td>710</td>\n      <td>66</td>\n      <td>2001</td>\n      <td>0</td>\n      <td>0.000000</td>\n      <td>0.0</td>\n    </tr>\n    <tr>\n      <td>140396</td>\n      <td>hu3932623</td>\n      <td>1311</td>\n      <td>30100</td>\n      <td>0</td>\n      <td>7200</td>\n      <td>220</td>\n      <td>35</td>\n      <td>2001</td>\n      <td>0</td>\n      <td>0.000000</td>\n      <td>0.0</td>\n    </tr>\n    <tr>\n      <td>140402</td>\n      <td>k26214723</td>\n      <td>1311</td>\n      <td>15322</td>\n      <td>0</td>\n      <td>1347</td>\n      <td>511</td>\n      <td>148</td>\n      <td>2001</td>\n      <td>0</td>\n      <td>0.000000</td>\n      <td>0.0</td>\n    </tr>\n    <tr>\n      <td>140403</td>\n      <td>k26214758</td>\n      <td>1311</td>\n      <td>16209</td>\n      <td>0</td>\n      <td>1308</td>\n      <td>137</td>\n      <td>242</td>\n      <td>2001</td>\n      <td>0</td>\n      <td>0.000000</td>\n      <td>0.0</td>\n    </tr>\n  </tbody>\n</table>\n<p>2133 rows × 11 columns</p>\n</div>",
      "text/plain": "              crc  indtype  giovsaled  voexpg      fa   cwp  perseng  year  \\\n299     101130410     1312     116447       0  105294  4886      345  2001   \n356     101164960     1312      10655       0    7052  1285       71  2001   \n525     101507273     1312      63462       0   48598  3250      270  2001   \n534     101516655     1312      45991       0   25948  3561      193  2001   \n948     101897750     1312      71099       0   47187  3411      219  2001   \n...           ...      ...        ...     ...     ...   ...      ...   ...   \n139761  X29454305     1311      11376       0    2728   136      262  2001   \n140141  gx0204421     1311      12414       0   14830   710       66  2001   \n140396  hu3932623     1311      30100       0    7200   220       35  2001   \n140402  k26214723     1311      15322       0    1347   511      148  2001   \n140403  k26214758     1311      16209       0    1308   137      242  2001   \n\n        rnd  rndinten  expinten  \n299       2  0.000017       0.0  \n356       0  0.000000       0.0  \n525       0  0.000000       0.0  \n534       0  0.000000       0.0  \n948       0  0.000000       0.0  \n...     ...       ...       ...  \n139761    0  0.000000       0.0  \n140141    0  0.000000       0.0  \n140396    0  0.000000       0.0  \n140402    0  0.000000       0.0  \n140403    0  0.000000       0.0  \n\n[2133 rows x 11 columns]"
     },
     "execution_count": 39,
     "metadata": {},
     "output_type": "execute_result"
    }
   ],
   "source": [
    "df2.append(df1)"
   ]
  },
  {
   "cell_type": "code",
   "execution_count": null,
   "metadata": {},
   "outputs": [],
   "source": [
    "li = [1,2,3,1,2,4,5,6,3]\n",
    "data = pd.DataFrame({'type':li, 'oo':li})\n",
    "#print(data)\n",
    "df2 =  pd.DataFrame([[5, 6], [7, 8]],columns = ['type', 'oo'])\n",
    "data.append(df2,ignore_index=True)\n",
    "\n",
    "print(data)"
   ]
  },
  {
   "cell_type": "code",
   "execution_count": null,
   "metadata": {},
   "outputs": [],
   "source": [
    "with PdfPages('multipage_pdf.pdf') as pdf:\n",
    "    #plt.figure(1)\n",
    "    plt.plot(range(7), [3, 1, 4, 1, 5, 9, 2], 'r-o')\n",
    "    plt.title('id = 1')\n",
    "    pdf.savefig()  # saves the current figure into a pdf page\n",
    "    plt.close()\n",
    "\n",
    "    #plt.figure(2)\n",
    "    plt.plot(range(7), [4, 2, 3, 4, 5, 6, 1], 'r-o')\n",
    "    plt.title('id = 2')\n",
    "    pdf.savefig()  # saves the current figure into a pdf page\n",
    "    plt.close()\n"
   ]
  }
 ]
}
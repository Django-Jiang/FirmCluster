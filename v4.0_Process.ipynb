{
 "nbformat": 4,
 "nbformat_minor": 2,
 "metadata": {
  "language_info": {
   "name": "python",
   "codemirror_mode": {
    "name": "ipython",
    "version": 3
   },
   "version": "3.7.4-final"
  },
  "orig_nbformat": 2,
  "file_extension": ".py",
  "mimetype": "text/x-python",
  "name": "python",
  "npconvert_exporter": "python",
  "pygments_lexer": "ipython3",
  "version": 3,
  "kernelspec": {
   "name": "python37464bitbaseconda1cd2d0d6e41a416eb3bb8aebfedc92b4",
   "display_name": "Python 3.7.4 64-bit ('base': conda)"
  }
 },
 "cells": [
  {
   "cell_type": "code",
   "execution_count": 7,
   "metadata": {},
   "outputs": [],
   "source": [
    "import matplotlib.pyplot as plt\n",
    "import seaborn as sns\n",
    "from matplotlib.backends.backend_pdf import PdfPages\n",
    "import numpy as np\n",
    "import pandas as pd\n",
    "import scipy.io as sio\n",
    "import os\n",
    "import shutil \n",
    "from sklearn.cluster import KMeans\n",
    "from sklearn.preprocessing import StandardScaler"
   ]
  },
  {
   "cell_type": "code",
   "execution_count": 8,
   "metadata": {},
   "outputs": [],
   "source": [
    "def mkdir(path):\n",
    "    isExists = os.path.exists(path) \n",
    "    if not isExists:\n",
    "        os.makedirs(path)\n",
    "        return\n",
    "    else:\n",
    "        shutil.rmtree(path)\n",
    "        os.makedirs(path)\n",
    "        return"
   ]
  },
  {
   "cell_type": "code",
   "execution_count": 9,
   "metadata": {},
   "outputs": [],
   "source": [
    "def combine_data_C(data, C):\n",
    "    data_with_c = data.copy()\n",
    "    data_with_c['C'] = C\n",
    "    return data_with_c"
   ]
  },
  {
   "cell_type": "code",
   "execution_count": 10,
   "metadata": {},
   "outputs": [],
   "source": [
    "def nor_data(data2, method):\n",
    "    if method == 0:\n",
    "        return (data2 - data2.min())/(data2.max() - data2.min()) ##rescaling\n",
    "    if method == 1:\n",
    "        return (data2 - data2.mean())/(data2.max() - data2.min()) ##mean normalization\n",
    "    if method == 2:\n",
    "        return (data2-data2.mean())/(data2.std()) ##standarization"
   ]
  },
  {
   "cell_type": "code",
   "execution_count": 15,
   "metadata": {},
   "outputs": [],
   "source": [
    "def csv_group(inputfile, clusternumber, plotpath = \"./outplot\", method = 2, groupkey = \"indtype\", outcsvpath = \"./outcsv/\", SaveEachPlot = False):\n",
    "    ###\n",
    "    # 1. Read data as dataframe ###\n",
    "    #\n",
    "    data = pd.read_csv(inputfile)\n",
    "\n",
    "    ###\n",
    "    # 2.Get various keyvalue ###\n",
    "    #\n",
    "    data_to_count = data[groupkey]\n",
    "    intdic = {}\n",
    "    for i in data_to_count: #count appe time\n",
    "        if i in intdic:\n",
    "            intdic[i] += 1\n",
    "        else:\n",
    "            intdic[i] = 1\n",
    "\n",
    "    intlist = [] #choose desire key\n",
    "    for i in intdic:\n",
    "        if intdic[i] >= clusternumber: \n",
    "            intlist.append(i)\n",
    "    intlist.sort() \n",
    "    #print(intlist)  ##intlist, len = 523 - 4, dtype = int\n",
    "\n",
    "    ###\n",
    "    # 3. Write intlist to csv file\n",
    "    indtype_df = pd.DataFrame({'avail_ind':intlist})\n",
    "    indtype_df.to_csv(\"availible_indtype.csv\")\n",
    "\n",
    "    ###\n",
    "    # 4. Make dir for outplot\n",
    "    if (SaveEachPlot):\n",
    "        plotpath += \"/c\" + str(clusternumber) + \"_m\" + str(method) #make a new dir\n",
    "        mkdir(plotpath)\n",
    "        plotpath +=  \"/ind=\"\n",
    "    \n",
    "    ###\n",
    "    # 5. Data Process\n",
    "    pdfpath = inputfile + \"_c\" + str(clusternumber) + \"_m\" + str(method) + \".pdf\"\n",
    "    with PdfPages(pdfpath) as pdf:\n",
    "        num_int = len(intlist)\n",
    "        for i in range(num_int):\n",
    "            intkey = intlist[i]\n",
    "            ##5.1 Get individual Data according to indtype\n",
    "            data_to_processed = data[data[groupkey] == intkey]\n",
    "            \n",
    "\n",
    "            ##5.2 Process small data\n",
    "            data2 = pd.DataFrame(data_to_processed, columns = ['rndinten', 'expinten'])\n",
    "            ss = StandardScaler()\n",
    "            data2 = ss.fit_transform(data2)\n",
    "\n",
    "            ##5.3\n",
    "            sk_kmeans = KMeans(n_clusters=clusternumber)\n",
    "            sk_kmeans.fit(data2)\n",
    "\n",
    "            ##5.4produce cluster label\n",
    "            sk_C = sk_kmeans.predict(data2)\n",
    "            data_with_c = combine_data_C(data_to_processed, sk_C)\n",
    "\n",
    "            ##5.5 Save Plot\n",
    "            sns.lmplot('rndinten', 'expinten', hue='C', data=data_with_c, fit_reg=False)\n",
    "            plt.title(\"indtype = \"+str(intkey))\n",
    "            plt.tight_layout()\n",
    "            pdf.savefig()\n",
    "            if (SaveEachPlot):\n",
    "                plt.savefig(plotpath + str(intkey)+\".png\", dpi = 200)\n",
    "            plt.close()\n",
    "    return "
   ]
  },
  {
   "cell_type": "code",
   "execution_count": 16,
   "metadata": {},
   "outputs": [
    {
     "name": "stderr",
     "output_type": "stream",
     "text": "/opt/anaconda3/lib/python3.7/site-packages/sklearn/cluster/k_means_.py:972: ConvergenceWarning: Number of distinct clusters (1) found smaller than n_clusters (2). Possibly due to duplicate points in X.\n  return_n_iter=True)\n/opt/anaconda3/lib/python3.7/site-packages/sklearn/cluster/k_means_.py:972: ConvergenceWarning: Number of distinct clusters (1) found smaller than n_clusters (2). Possibly due to duplicate points in X.\n  return_n_iter=True)\n/opt/anaconda3/lib/python3.7/site-packages/sklearn/cluster/k_means_.py:972: ConvergenceWarning: Number of distinct clusters (1) found smaller than n_clusters (2). Possibly due to duplicate points in X.\n  return_n_iter=True)\n/opt/anaconda3/lib/python3.7/site-packages/sklearn/cluster/k_means_.py:972: ConvergenceWarning: Number of distinct clusters (1) found smaller than n_clusters (2). Possibly due to duplicate points in X.\n  return_n_iter=True)\n"
    }
   ],
   "source": [
    "infile = \"2001_industry.csv\"\n",
    "num = 2\n",
    "csv_group(infile, num)"
   ]
  },
  {
   "cell_type": "code",
   "execution_count": null,
   "metadata": {},
   "outputs": [],
   "source": [
    "! git add .\n",
    "! git commit -m \"2.3update1\"\n",
    "! git push"
   ]
  },
  {
   "cell_type": "code",
   "execution_count": null,
   "metadata": {},
   "outputs": [],
   "source": []
  }
 ]
}
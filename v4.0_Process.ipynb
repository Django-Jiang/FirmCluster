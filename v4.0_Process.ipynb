{
 "nbformat": 4,
 "nbformat_minor": 2,
 "metadata": {
  "language_info": {
   "name": "python",
   "codemirror_mode": {
    "name": "ipython",
    "version": 3
   },
   "version": "3.7.4-final"
  },
  "orig_nbformat": 2,
  "file_extension": ".py",
  "mimetype": "text/x-python",
  "name": "python",
  "npconvert_exporter": "python",
  "pygments_lexer": "ipython3",
  "version": 3,
  "kernelspec": {
   "name": "python37464bitbaseconda1cd2d0d6e41a416eb3bb8aebfedc92b4",
   "display_name": "Python 3.7.4 64-bit ('base': conda)"
  }
 },
 "cells": [
  {
   "cell_type": "code",
   "execution_count": null,
   "metadata": {},
   "outputs": [],
   "source": [
    "import matplotlib.pyplot as plt\n",
    "import seaborn as sns\n",
    "\n",
    "import numpy as np\n",
    "import pandas as pd\n",
    "import scipy.io as sio\n",
    "import os\n",
    "import shutil \n",
    "from sklearn.cluster import KMeans"
   ]
  },
  {
   "cell_type": "code",
   "execution_count": null,
   "metadata": {},
   "outputs": [],
   "source": [
    "def mkdir(path):\n",
    "    isExists = os.path.exists(path) \n",
    "    if not isExists:\n",
    "        os.makedirs(path)\n",
    "        return\n",
    "    else:\n",
    "        shutil.rmtree(path)\n",
    "        os.makedirs(path)\n",
    "        return"
   ]
  },
  {
   "cell_type": "code",
   "execution_count": null,
   "metadata": {},
   "outputs": [],
   "source": [
    "def combine_data_C(data, C):\n",
    "    data_with_c = data.copy()\n",
    "    data_with_c['C'] = C\n",
    "    return data_with_c"
   ]
  },
  {
   "cell_type": "code",
   "execution_count": null,
   "metadata": {},
   "outputs": [],
   "source": [
    "def nor_data(data2, method):\n",
    "    if method == 0:\n",
    "        return (data2 - data2.min())/(data2.max() - data2.min()) ##rescaling\n",
    "    if method == 1:\n",
    "        return (data2 - data2.mean())/(data2.max() - data2.min()) ##mean normalization\n",
    "    if method == 2:\n",
    "        return (data2-data2.mean())/(data2.std()) ##standarization"
   ]
  },
  {
   "cell_type": "code",
   "execution_count": null,
   "metadata": {},
   "outputs": [],
   "source": [
    "def kmeans(data, clusternumber, name, plotpath, savefile = False, saveplot = True, method = 2):\n",
    "    \n",
    "\n",
    "    data2 = pd.DataFrame(data, columns = ['rndinten', 'expinten'])\n",
    "    #data2 = nor_data(data2, method)\n",
    "    ss = StandardScaler()\n",
    "    data2 = ss.fit_transform(data2)\n",
    "\n",
    "    #print(data2.head()) \n",
    "\n",
    "    #sns.set(context=\"notebook\", style=\"white\")\n",
    "    #sns.lmplot('rndinten', 'expinten', data=data2, fit_reg=False)\n",
    "    #plt.show()\n",
    "\n",
    "    #################\n",
    "    sk_kmeans = KMeans(n_clusters=clusternumber)\n",
    "    sk_kmeans.fit(data2)\n",
    "\n",
    "    ##produce cluster label\n",
    "    sk_C = sk_kmeans.predict(data2)\n",
    "\n",
    "    #combine label\n",
    "    data_with_c = combine_data_C(data, sk_C)\n",
    "    #data_with_c2 = combine_data_C(data2, sk_C)\n",
    "\n",
    "\n",
    "    ##File Output\n",
    "    ##outpath = filename.split(\".\")[0]\n",
    "    ##if(savefile):\n",
    "    ##    data_with_c.to_csv(outpath+\"_withcluster\"+str(clusternumber)+\".csv\")\n",
    "\n",
    "    #result plot\n",
    "    sns.lmplot('rndinten', 'expinten', hue='C', data=data_with_c, fit_reg=False)\n",
    "    plt.title(\"indtype = \"+name)\n",
    "    plt.tight_layout()\n",
    "    if (saveplot):\n",
    "        plt.savefig(plotpath + name+\".png\", dpi = 300)\n",
    "        plt.close()\n",
    "        return\n",
    "    else:\n",
    "        plt.show()\n",
    "        return"
   ]
  },
  {
   "cell_type": "code",
   "execution_count": null,
   "metadata": {},
   "outputs": [],
   "source": [
    "def csv_group(inputfile, clusternumber, plotpath = \"./outplot\", method = 2, groupkey = \"indtype\", outcsvpath = \"./outcsv/\", save2pdf = True):\n",
    "    ###\n",
    "    # 1. Read data as dataframe ###\n",
    "    #\n",
    "    data = pd.read_csv(inputfile)\n",
    "\n",
    "    ###\n",
    "    # 2.Get various keyvalue ###\n",
    "    #\n",
    "    data_to_count = data[groupkey]\n",
    "    intdic = {}\n",
    "    for i in data_to_count: #count appe time\n",
    "        if i in intdic:\n",
    "            intdic[i] += 1\n",
    "        else:\n",
    "            intdic[i] = 1\n",
    "\n",
    "    intlist = [] #choose desire key\n",
    "    for i in intdic:\n",
    "        if intdic[i] >= clusternumber: \n",
    "            intlist.append(i)\n",
    "    intlist.sort() \n",
    "    #print(intlist)  ##intlist, len = 523 - 4, dtype = int\n",
    "\n",
    "    ###\n",
    "    # 3. Write intlist to csv file\n",
    "    indtype_df = pd.DataFrame({'avail_ind':intlist})\n",
    "    indtype_df.to_csv(\"availible_indtype.csv\")\n",
    "\n",
    "    ###\n",
    "    # 4. \n",
    "\n",
    "    if (!save2pdf):\n",
    "        plotpath += \"/c\" + str(clusternumber) + \"_m\" + str(method) #make a new dir\n",
    "        mkdir(plotpath)\n",
    "        plotpath +=  \"/ind=\"\n",
    "    \n",
    "    num_int = len(intlist)\n",
    "    for i in range(num_int):\n",
    "        intkey = intlist[i]\n",
    "        data_to_processed = data[data[groupkey] == intkey]\n",
    "        ##data_to_write.to_csv(outcsvpath + \"ind=\" + str(intkey) + \".csv\") ## \"./outcsv/ind=####.csv\"\n",
    "        kmeans(data_to_processed, clusternumber, str(intkey), plotpath)\n",
    "\n",
    "\n",
    "    return "
   ]
  },
  {
   "cell_type": "code",
   "execution_count": null,
   "metadata": {},
   "outputs": [],
   "source": [
    "infile = \"2001_industry.csv\"\n",
    "num = 2\n",
    "csv_group(infile, num)"
   ]
  },
  {
   "cell_type": "code",
   "execution_count": null,
   "metadata": {},
   "outputs": [],
   "source": [
    "! git add .\n",
    "! git commit -m \"2.3update1\"\n",
    "! git push"
   ]
  },
  {
   "cell_type": "code",
   "execution_count": null,
   "metadata": {},
   "outputs": [],
   "source": []
  }
 ]
}